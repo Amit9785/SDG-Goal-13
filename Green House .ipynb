{
 "cells": [
  {
   "cell_type": "code",
   "execution_count": 1,
   "id": "be90198c",
   "metadata": {},
   "outputs": [],
   "source": [
    "import pandas as pd\n",
    "import numpy as np\n",
    "import matplotlib.pyplot as plt\n",
    "from sklearn import linear_model"
   ]
  },
  {
   "cell_type": "code",
   "execution_count": 2,
   "id": "93d2206b",
   "metadata": {},
   "outputs": [
    {
     "data": {
      "text/html": [
       "<div>\n",
       "<style scoped>\n",
       "    .dataframe tbody tr th:only-of-type {\n",
       "        vertical-align: middle;\n",
       "    }\n",
       "\n",
       "    .dataframe tbody tr th {\n",
       "        vertical-align: top;\n",
       "    }\n",
       "\n",
       "    .dataframe thead th {\n",
       "        text-align: right;\n",
       "    }\n",
       "</style>\n",
       "<table border=\"1\" class=\"dataframe\">\n",
       "  <thead>\n",
       "    <tr style=\"text-align: right;\">\n",
       "      <th></th>\n",
       "      <th>Year</th>\n",
       "      <th>Agriculture (MTCO2e)</th>\n",
       "      <th>Industrial process(MTCO2e)</th>\n",
       "      <th>Bunker(MTCO2e)</th>\n",
       "      <th>Waste(MTCO2e)</th>\n",
       "      <th>Elecricity(MTCO2e)</th>\n",
       "      <th>Manufacture and cunstruction(MTCO2e)</th>\n",
       "      <th>Transportation(MTCO2e)</th>\n",
       "      <th>Fugate emission(MTCO2e)</th>\n",
       "      <th>Other(MTCO2e)</th>\n",
       "    </tr>\n",
       "  </thead>\n",
       "  <tbody>\n",
       "    <tr>\n",
       "      <th>0</th>\n",
       "      <td>1990</td>\n",
       "      <td>566.55</td>\n",
       "      <td>26.50</td>\n",
       "      <td>5.12</td>\n",
       "      <td>24.54</td>\n",
       "      <td>231.23</td>\n",
       "      <td>256.46</td>\n",
       "      <td>64.35</td>\n",
       "      <td>36.52</td>\n",
       "      <td>70.59</td>\n",
       "    </tr>\n",
       "    <tr>\n",
       "      <th>1</th>\n",
       "      <td>1991</td>\n",
       "      <td>573.97</td>\n",
       "      <td>29.00</td>\n",
       "      <td>4.87</td>\n",
       "      <td>25.79</td>\n",
       "      <td>258.36</td>\n",
       "      <td>284.16</td>\n",
       "      <td>66.35</td>\n",
       "      <td>39.08</td>\n",
       "      <td>75.55</td>\n",
       "    </tr>\n",
       "    <tr>\n",
       "      <th>2</th>\n",
       "      <td>1992</td>\n",
       "      <td>580.41</td>\n",
       "      <td>30.06</td>\n",
       "      <td>4.95</td>\n",
       "      <td>25.86</td>\n",
       "      <td>278.36</td>\n",
       "      <td>304.23</td>\n",
       "      <td>68.69</td>\n",
       "      <td>38.63</td>\n",
       "      <td>76.44</td>\n",
       "    </tr>\n",
       "    <tr>\n",
       "      <th>3</th>\n",
       "      <td>1993</td>\n",
       "      <td>587.12</td>\n",
       "      <td>31.06</td>\n",
       "      <td>5.40</td>\n",
       "      <td>26.50</td>\n",
       "      <td>306.80</td>\n",
       "      <td>333.33</td>\n",
       "      <td>68.99</td>\n",
       "      <td>35.06</td>\n",
       "      <td>76.09</td>\n",
       "    </tr>\n",
       "    <tr>\n",
       "      <th>4</th>\n",
       "      <td>1994</td>\n",
       "      <td>595.12</td>\n",
       "      <td>34.05</td>\n",
       "      <td>5.84</td>\n",
       "      <td>NaN</td>\n",
       "      <td>319.80</td>\n",
       "      <td>347.21</td>\n",
       "      <td>70.81</td>\n",
       "      <td>35.47</td>\n",
       "      <td>81.45</td>\n",
       "    </tr>\n",
       "    <tr>\n",
       "      <th>5</th>\n",
       "      <td>1995</td>\n",
       "      <td>599.54</td>\n",
       "      <td>37.25</td>\n",
       "      <td>6.36</td>\n",
       "      <td>32.60</td>\n",
       "      <td>364.89</td>\n",
       "      <td>397.58</td>\n",
       "      <td>78.29</td>\n",
       "      <td>37.00</td>\n",
       "      <td>84.92</td>\n",
       "    </tr>\n",
       "    <tr>\n",
       "      <th>6</th>\n",
       "      <td>1996</td>\n",
       "      <td>607.06</td>\n",
       "      <td>41.94</td>\n",
       "      <td>6.63</td>\n",
       "      <td>44.39</td>\n",
       "      <td>388.13</td>\n",
       "      <td>NaN</td>\n",
       "      <td>83.78</td>\n",
       "      <td>36.49</td>\n",
       "      <td>88.80</td>\n",
       "    </tr>\n",
       "    <tr>\n",
       "      <th>7</th>\n",
       "      <td>1997</td>\n",
       "      <td>612.43</td>\n",
       "      <td>46.45</td>\n",
       "      <td>6.57</td>\n",
       "      <td>50.15</td>\n",
       "      <td>402.10</td>\n",
       "      <td>446.25</td>\n",
       "      <td>85.50</td>\n",
       "      <td>36.97</td>\n",
       "      <td>93.64</td>\n",
       "    </tr>\n",
       "    <tr>\n",
       "      <th>8</th>\n",
       "      <td>1998</td>\n",
       "      <td>619.68</td>\n",
       "      <td>49.88</td>\n",
       "      <td>6.68</td>\n",
       "      <td>55.88</td>\n",
       "      <td>418.14</td>\n",
       "      <td>468.25</td>\n",
       "      <td>88.78</td>\n",
       "      <td>37.76</td>\n",
       "      <td>84.94</td>\n",
       "    </tr>\n",
       "    <tr>\n",
       "      <th>9</th>\n",
       "      <td>1999</td>\n",
       "      <td>623.28</td>\n",
       "      <td>55.60</td>\n",
       "      <td>7.03</td>\n",
       "      <td>61.68</td>\n",
       "      <td>459.23</td>\n",
       "      <td>515.53</td>\n",
       "      <td>97.81</td>\n",
       "      <td>38.18</td>\n",
       "      <td>97.45</td>\n",
       "    </tr>\n",
       "    <tr>\n",
       "      <th>10</th>\n",
       "      <td>2000</td>\n",
       "      <td>617.94</td>\n",
       "      <td>57.49</td>\n",
       "      <td>7.21</td>\n",
       "      <td>62.89</td>\n",
       "      <td>491.35</td>\n",
       "      <td>552.86</td>\n",
       "      <td>95.05</td>\n",
       "      <td>37.62</td>\n",
       "      <td>91.04</td>\n",
       "    </tr>\n",
       "    <tr>\n",
       "      <th>11</th>\n",
       "      <td>2001</td>\n",
       "      <td>623.04</td>\n",
       "      <td>59.21</td>\n",
       "      <td>7.29</td>\n",
       "      <td>64.17</td>\n",
       "      <td>505.36</td>\n",
       "      <td>568.25</td>\n",
       "      <td>94.91</td>\n",
       "      <td>40.06</td>\n",
       "      <td>92.97</td>\n",
       "    </tr>\n",
       "    <tr>\n",
       "      <th>12</th>\n",
       "      <td>2002</td>\n",
       "      <td>607.05</td>\n",
       "      <td>63.06</td>\n",
       "      <td>7.39</td>\n",
       "      <td>65.44</td>\n",
       "      <td>515.58</td>\n",
       "      <td>577.75</td>\n",
       "      <td>97.74</td>\n",
       "      <td>43.54</td>\n",
       "      <td>95.96</td>\n",
       "    </tr>\n",
       "    <tr>\n",
       "      <th>13</th>\n",
       "      <td>2003</td>\n",
       "      <td>618.55</td>\n",
       "      <td>66.10</td>\n",
       "      <td>8.09</td>\n",
       "      <td>66.71</td>\n",
       "      <td>NaN</td>\n",
       "      <td>601.25</td>\n",
       "      <td>99.53</td>\n",
       "      <td>NaN</td>\n",
       "      <td>104.04</td>\n",
       "    </tr>\n",
       "    <tr>\n",
       "      <th>14</th>\n",
       "      <td>2004</td>\n",
       "      <td>620.63</td>\n",
       "      <td>68.12</td>\n",
       "      <td>NaN</td>\n",
       "      <td>67.98</td>\n",
       "      <td>584.73</td>\n",
       "      <td>651.25</td>\n",
       "      <td>108.05</td>\n",
       "      <td>47.36</td>\n",
       "      <td>105.05</td>\n",
       "    </tr>\n",
       "    <tr>\n",
       "      <th>15</th>\n",
       "      <td>2005</td>\n",
       "      <td>647.22</td>\n",
       "      <td>72.00</td>\n",
       "      <td>9.71</td>\n",
       "      <td>70.53</td>\n",
       "      <td>599.57</td>\n",
       "      <td>667.58</td>\n",
       "      <td>115.40</td>\n",
       "      <td>50.11</td>\n",
       "      <td>105.99</td>\n",
       "    </tr>\n",
       "    <tr>\n",
       "      <th>16</th>\n",
       "      <td>2006</td>\n",
       "      <td>662.25</td>\n",
       "      <td>76.20</td>\n",
       "      <td>11.29</td>\n",
       "      <td>71.80</td>\n",
       "      <td>638.85</td>\n",
       "      <td>708.12</td>\n",
       "      <td>120.65</td>\n",
       "      <td>52.11</td>\n",
       "      <td>106.26</td>\n",
       "    </tr>\n",
       "    <tr>\n",
       "      <th>17</th>\n",
       "      <td>2007</td>\n",
       "      <td>679.25</td>\n",
       "      <td>81.25</td>\n",
       "      <td>12.74</td>\n",
       "      <td>73.07</td>\n",
       "      <td>701.88</td>\n",
       "      <td>793.48</td>\n",
       "      <td>142.98</td>\n",
       "      <td>55.00</td>\n",
       "      <td>130.07</td>\n",
       "    </tr>\n",
       "    <tr>\n",
       "      <th>18</th>\n",
       "      <td>2008</td>\n",
       "      <td>681.39</td>\n",
       "      <td>86.19</td>\n",
       "      <td>12.51</td>\n",
       "      <td>71.80</td>\n",
       "      <td>721.88</td>\n",
       "      <td>862.58</td>\n",
       "      <td>163.21</td>\n",
       "      <td>55.66</td>\n",
       "      <td>130.34</td>\n",
       "    </tr>\n",
       "    <tr>\n",
       "      <th>19</th>\n",
       "      <td>2009</td>\n",
       "      <td>689.66</td>\n",
       "      <td>98.63</td>\n",
       "      <td>13.28</td>\n",
       "      <td>73.07</td>\n",
       "      <td>789.51</td>\n",
       "      <td>NaN</td>\n",
       "      <td>178.71</td>\n",
       "      <td>60.05</td>\n",
       "      <td>128.53</td>\n",
       "    </tr>\n",
       "    <tr>\n",
       "      <th>20</th>\n",
       "      <td>2010</td>\n",
       "      <td>691.44</td>\n",
       "      <td>105.42</td>\n",
       "      <td>13.97</td>\n",
       "      <td>74.34</td>\n",
       "      <td>819.68</td>\n",
       "      <td>935.68</td>\n",
       "      <td>192.92</td>\n",
       "      <td>59.04</td>\n",
       "      <td>129.54</td>\n",
       "    </tr>\n",
       "    <tr>\n",
       "      <th>21</th>\n",
       "      <td>2011</td>\n",
       "      <td>701.81</td>\n",
       "      <td>11.41</td>\n",
       "      <td>14.40</td>\n",
       "      <td>75.45</td>\n",
       "      <td>860.23</td>\n",
       "      <td>1065.68</td>\n",
       "      <td>209.29</td>\n",
       "      <td>58.35</td>\n",
       "      <td>113.84</td>\n",
       "    </tr>\n",
       "    <tr>\n",
       "      <th>22</th>\n",
       "      <td>2012</td>\n",
       "      <td>695.63</td>\n",
       "      <td>117.19</td>\n",
       "      <td>13.51</td>\n",
       "      <td>76.56</td>\n",
       "      <td>NaN</td>\n",
       "      <td>1083.70</td>\n",
       "      <td>221.52</td>\n",
       "      <td>57.07</td>\n",
       "      <td>126.40</td>\n",
       "    </tr>\n",
       "    <tr>\n",
       "      <th>23</th>\n",
       "      <td>2013</td>\n",
       "      <td>698.17</td>\n",
       "      <td>120.95</td>\n",
       "      <td>13.87</td>\n",
       "      <td>77.67</td>\n",
       "      <td>1006.04</td>\n",
       "      <td>1202.22</td>\n",
       "      <td>226.26</td>\n",
       "      <td>56.11</td>\n",
       "      <td>120.98</td>\n",
       "    </tr>\n",
       "    <tr>\n",
       "      <th>24</th>\n",
       "      <td>2014</td>\n",
       "      <td>699.71</td>\n",
       "      <td>125.52</td>\n",
       "      <td>14.21</td>\n",
       "      <td>78.78</td>\n",
       "      <td>1123.44</td>\n",
       "      <td>1183.12</td>\n",
       "      <td>235.75</td>\n",
       "      <td>55.26</td>\n",
       "      <td>125.33</td>\n",
       "    </tr>\n",
       "    <tr>\n",
       "      <th>25</th>\n",
       "      <td>2015</td>\n",
       "      <td>700.01</td>\n",
       "      <td>130.19</td>\n",
       "      <td>15.24</td>\n",
       "      <td>79.89</td>\n",
       "      <td>1103.23</td>\n",
       "      <td>1178.79</td>\n",
       "      <td>252.25</td>\n",
       "      <td>55.28</td>\n",
       "      <td>125.77</td>\n",
       "    </tr>\n",
       "    <tr>\n",
       "      <th>26</th>\n",
       "      <td>2016</td>\n",
       "      <td>703.63</td>\n",
       "      <td>130.61</td>\n",
       "      <td>16.37</td>\n",
       "      <td>80.98</td>\n",
       "      <td>1097.81</td>\n",
       "      <td>1239.84</td>\n",
       "      <td>269.40</td>\n",
       "      <td>54.94</td>\n",
       "      <td>128.45</td>\n",
       "    </tr>\n",
       "    <tr>\n",
       "      <th>27</th>\n",
       "      <td>2017</td>\n",
       "      <td>709.50</td>\n",
       "      <td>130.52</td>\n",
       "      <td>17.11</td>\n",
       "      <td>82.07</td>\n",
       "      <td>1157.77</td>\n",
       "      <td>1324.51</td>\n",
       "      <td>291.29</td>\n",
       "      <td>54.41</td>\n",
       "      <td>131.14</td>\n",
       "    </tr>\n",
       "    <tr>\n",
       "      <th>28</th>\n",
       "      <td>2018</td>\n",
       "      <td>718.70</td>\n",
       "      <td>148.54</td>\n",
       "      <td>18.53</td>\n",
       "      <td>83.17</td>\n",
       "      <td>1241.34</td>\n",
       "      <td>1355.55</td>\n",
       "      <td>305.33</td>\n",
       "      <td>55.26</td>\n",
       "      <td>133.28</td>\n",
       "    </tr>\n",
       "  </tbody>\n",
       "</table>\n",
       "</div>"
      ],
      "text/plain": [
       "    Year  Agriculture (MTCO2e)  Industrial process(MTCO2e)  Bunker(MTCO2e)  \\\n",
       "0   1990                566.55                       26.50            5.12   \n",
       "1   1991                573.97                       29.00            4.87   \n",
       "2   1992                580.41                       30.06            4.95   \n",
       "3   1993                587.12                       31.06            5.40   \n",
       "4   1994                595.12                       34.05            5.84   \n",
       "5   1995                599.54                       37.25            6.36   \n",
       "6   1996                607.06                       41.94            6.63   \n",
       "7   1997                612.43                       46.45            6.57   \n",
       "8   1998                619.68                       49.88            6.68   \n",
       "9   1999                623.28                       55.60            7.03   \n",
       "10  2000                617.94                       57.49            7.21   \n",
       "11  2001                623.04                       59.21            7.29   \n",
       "12  2002                607.05                       63.06            7.39   \n",
       "13  2003                618.55                       66.10            8.09   \n",
       "14  2004                620.63                       68.12             NaN   \n",
       "15  2005                647.22                       72.00            9.71   \n",
       "16  2006                662.25                       76.20           11.29   \n",
       "17  2007                679.25                       81.25           12.74   \n",
       "18  2008                681.39                       86.19           12.51   \n",
       "19  2009                689.66                       98.63           13.28   \n",
       "20  2010                691.44                      105.42           13.97   \n",
       "21  2011                701.81                       11.41           14.40   \n",
       "22  2012                695.63                      117.19           13.51   \n",
       "23  2013                698.17                      120.95           13.87   \n",
       "24  2014                699.71                      125.52           14.21   \n",
       "25  2015                700.01                      130.19           15.24   \n",
       "26  2016                703.63                      130.61           16.37   \n",
       "27  2017                709.50                      130.52           17.11   \n",
       "28  2018                718.70                      148.54           18.53   \n",
       "\n",
       "    Waste(MTCO2e)  Elecricity(MTCO2e)  Manufacture and cunstruction(MTCO2e)  \\\n",
       "0           24.54              231.23                                256.46   \n",
       "1           25.79              258.36                                284.16   \n",
       "2           25.86              278.36                                304.23   \n",
       "3           26.50              306.80                                333.33   \n",
       "4             NaN              319.80                                347.21   \n",
       "5           32.60              364.89                                397.58   \n",
       "6           44.39              388.13                                   NaN   \n",
       "7           50.15              402.10                                446.25   \n",
       "8           55.88              418.14                                468.25   \n",
       "9           61.68              459.23                                515.53   \n",
       "10          62.89              491.35                                552.86   \n",
       "11          64.17              505.36                                568.25   \n",
       "12          65.44              515.58                                577.75   \n",
       "13          66.71                 NaN                                601.25   \n",
       "14          67.98              584.73                                651.25   \n",
       "15          70.53              599.57                                667.58   \n",
       "16          71.80              638.85                                708.12   \n",
       "17          73.07              701.88                                793.48   \n",
       "18          71.80              721.88                                862.58   \n",
       "19          73.07              789.51                                   NaN   \n",
       "20          74.34              819.68                                935.68   \n",
       "21          75.45              860.23                               1065.68   \n",
       "22          76.56                 NaN                               1083.70   \n",
       "23          77.67             1006.04                               1202.22   \n",
       "24          78.78             1123.44                               1183.12   \n",
       "25          79.89             1103.23                               1178.79   \n",
       "26          80.98             1097.81                               1239.84   \n",
       "27          82.07             1157.77                               1324.51   \n",
       "28          83.17             1241.34                               1355.55   \n",
       "\n",
       "    Transportation(MTCO2e)  Fugate emission(MTCO2e)  Other(MTCO2e)  \n",
       "0                    64.35                    36.52          70.59  \n",
       "1                    66.35                    39.08          75.55  \n",
       "2                    68.69                    38.63          76.44  \n",
       "3                    68.99                    35.06          76.09  \n",
       "4                    70.81                    35.47          81.45  \n",
       "5                    78.29                    37.00          84.92  \n",
       "6                    83.78                    36.49          88.80  \n",
       "7                    85.50                    36.97          93.64  \n",
       "8                    88.78                    37.76          84.94  \n",
       "9                    97.81                    38.18          97.45  \n",
       "10                   95.05                    37.62          91.04  \n",
       "11                   94.91                    40.06          92.97  \n",
       "12                   97.74                    43.54          95.96  \n",
       "13                   99.53                      NaN         104.04  \n",
       "14                  108.05                    47.36         105.05  \n",
       "15                  115.40                    50.11         105.99  \n",
       "16                  120.65                    52.11         106.26  \n",
       "17                  142.98                    55.00         130.07  \n",
       "18                  163.21                    55.66         130.34  \n",
       "19                  178.71                    60.05         128.53  \n",
       "20                  192.92                    59.04         129.54  \n",
       "21                  209.29                    58.35         113.84  \n",
       "22                  221.52                    57.07         126.40  \n",
       "23                  226.26                    56.11         120.98  \n",
       "24                  235.75                    55.26         125.33  \n",
       "25                  252.25                    55.28         125.77  \n",
       "26                  269.40                    54.94         128.45  \n",
       "27                  291.29                    54.41         131.14  \n",
       "28                  305.33                    55.26         133.28  "
      ]
     },
     "execution_count": 2,
     "metadata": {},
     "output_type": "execute_result"
    }
   ],
   "source": [
    "data=pd.read_csv('C:\\\\Users\\\\91820\\\\Downloads\\\\Green house on sectors .csv')\n",
    "data"
   ]
  },
  {
   "cell_type": "code",
   "execution_count": 3,
   "id": "5cf128c2",
   "metadata": {},
   "outputs": [
    {
     "data": {
      "text/plain": [
       "Year                                    0\n",
       "Agriculture (MTCO2e)                    0\n",
       "Industrial process(MTCO2e)              0\n",
       "Bunker(MTCO2e)                          1\n",
       "Waste(MTCO2e)                           1\n",
       "Elecricity(MTCO2e)                      2\n",
       "Manufacture and cunstruction(MTCO2e)    2\n",
       "Transportation(MTCO2e)                  0\n",
       "Fugate emission(MTCO2e)                 1\n",
       "Other(MTCO2e)                           0\n",
       "dtype: int64"
      ]
     },
     "execution_count": 3,
     "metadata": {},
     "output_type": "execute_result"
    }
   ],
   "source": [
    "data.isnull().sum()"
   ]
  },
  {
   "cell_type": "code",
   "execution_count": 4,
   "id": "24278202",
   "metadata": {},
   "outputs": [],
   "source": [
    "µ_Elecricity=data['Elecricity(MTCO2e)'].mean()\n",
    "data['Elecricity(MTCO2e)'].fillna(value=µ_Elecricity,inplace=True)"
   ]
  },
  {
   "cell_type": "code",
   "execution_count": 5,
   "id": "a78762c2",
   "metadata": {},
   "outputs": [],
   "source": [
    "µ_Bunker=data['Bunker(MTCO2e)'].mean()\n",
    "data['Bunker(MTCO2e)'].fillna(value=µ_Bunker,inplace=True)"
   ]
  },
  {
   "cell_type": "code",
   "execution_count": 6,
   "id": "8602ac4d",
   "metadata": {},
   "outputs": [],
   "source": [
    "µ_Waste=data['Waste(MTCO2e)'].mean()\n",
    "data['Waste(MTCO2e)'].fillna(value=µ_Waste,inplace=True)"
   ]
  },
  {
   "cell_type": "code",
   "execution_count": 7,
   "id": "bbc61f41",
   "metadata": {},
   "outputs": [],
   "source": [
    "µ_Manufacture=data['Manufacture and cunstruction(MTCO2e)'].mean()\n",
    "data['Manufacture and cunstruction(MTCO2e)'].fillna(value=µ_Manufacture,inplace=True)"
   ]
  },
  {
   "cell_type": "code",
   "execution_count": 8,
   "id": "215ba054",
   "metadata": {},
   "outputs": [],
   "source": [
    "µ_Fugate=data['Fugate emission(MTCO2e)'].mean()\n",
    "data['Fugate emission(MTCO2e)'].fillna(value=µ_Fugate,inplace=True)"
   ]
  },
  {
   "cell_type": "code",
   "execution_count": 9,
   "id": "b006ef57",
   "metadata": {
    "scrolled": true
   },
   "outputs": [
    {
     "data": {
      "text/plain": [
       "Year                                    0\n",
       "Agriculture (MTCO2e)                    0\n",
       "Industrial process(MTCO2e)              0\n",
       "Bunker(MTCO2e)                          0\n",
       "Waste(MTCO2e)                           0\n",
       "Elecricity(MTCO2e)                      0\n",
       "Manufacture and cunstruction(MTCO2e)    0\n",
       "Transportation(MTCO2e)                  0\n",
       "Fugate emission(MTCO2e)                 0\n",
       "Other(MTCO2e)                           0\n",
       "dtype: int64"
      ]
     },
     "execution_count": 9,
     "metadata": {},
     "output_type": "execute_result"
    }
   ],
   "source": [
    "data.isnull().sum()"
   ]
  },
  {
   "cell_type": "code",
   "execution_count": 10,
   "id": "79290871",
   "metadata": {},
   "outputs": [],
   "source": [
    "df=data"
   ]
  },
  {
   "cell_type": "code",
   "execution_count": null,
   "id": "91e691ab",
   "metadata": {},
   "outputs": [],
   "source": []
  },
  {
   "cell_type": "code",
   "execution_count": 11,
   "id": "b44d5ffc",
   "metadata": {},
   "outputs": [
    {
     "data": {
      "text/plain": [
       "<AxesSubplot:>"
      ]
     },
     "execution_count": 11,
     "metadata": {},
     "output_type": "execute_result"
    },
    {
     "data": {
      "image/png": "[encoded data removed]",
      "text/plain": [
       "<Figure size 2160x720 with 1 Axes>"
      ]
     },
     "metadata": {
      "needs_background": "light"
     },
     "output_type": "display_data"
    }
   ],
   "source": [
    "df.plot(kind='box',figsize=(30,10))"
   ]
  },
  {
   "cell_type": "code",
   "execution_count": 12,
   "id": "53af1ab5",
   "metadata": {},
   "outputs": [],
   "source": [
    "df=data"
   ]
  },
  {
   "cell_type": "markdown",
   "id": "e69fda9b",
   "metadata": {},
   "source": [
    "REgression"
   ]
  },
  {
   "cell_type": "code",
   "execution_count": 13,
   "id": "eecef608",
   "metadata": {},
   "outputs": [],
   "source": [
    "# Problem1st: To predict the Greenhouse gasses from 2022 to 2025, by historical data from 1990 to 2018 (By using regression analyses)."
   ]
  },
  {
   "cell_type": "code",
   "execution_count": 14,
   "id": "7c84506d",
   "metadata": {},
   "outputs": [],
   "source": [
    "import numpy as np\n",
    "y=df[\"Bunker(MTCO2e)\"]\n",
    "x=df[\"Year\"]\n",
    "\n",
    "Sxx=np.sum(x**2)-((np.sum(x)**2/x.shape[0]))\n",
    "\n",
    "Syy=np.sum(y**2)-((np.sum(y)**2)/y.shape[0])\n",
    "\n",
    "Sxy=np.sum(y*x)-(np.sum(x)*np.sum(y))/y.shape[0]"
   ]
  },
  {
   "cell_type": "code",
   "execution_count": null,
   "id": "c3ebc63d",
   "metadata": {},
   "outputs": [],
   "source": []
  },
  {
   "cell_type": "code",
   "execution_count": 15,
   "id": "f75df257",
   "metadata": {},
   "outputs": [
    {
     "data": {
      "image/png": "[encoded data removed]",
      "text/plain": [
       "<Figure size 432x288 with 1 Axes>"
      ]
     },
     "metadata": {
      "needs_background": "light"
     },
     "output_type": "display_data"
    }
   ],
   "source": [
    "plt.plot(x, y, 'o')\n",
    "\n",
    "#obtain m (slope) and b(intercept) of linear regression line\n",
    "m, b = np.polyfit(x, y, 1)\n",
    "\n",
    "plt.xlabel('YEAR')\n",
    "plt.ylabel('Bunker(MTCO2e)')\n",
    "plt.title('REGRESSION')\n",
    "#add linear regression line to scatterplot \n",
    "plt.plot(x, m*x+b)\n",
    "plt.show()"
   ]
  },
  {
   "cell_type": "code",
   "execution_count": null,
   "id": "59b6db92",
   "metadata": {},
   "outputs": [],
   "source": []
  },
  {
   "cell_type": "code",
   "execution_count": null,
   "id": "47b246ab",
   "metadata": {},
   "outputs": [],
   "source": []
  },
  {
   "cell_type": "code",
   "execution_count": null,
   "id": "c647b3bd",
   "metadata": {},
   "outputs": [],
   "source": []
  },
  {
   "cell_type": "code",
   "execution_count": 16,
   "id": "a78cfd7a",
   "metadata": {},
   "outputs": [
    {
     "name": "stdout",
     "output_type": "stream",
     "text": [
      "0.48041379310338633\n"
     ]
    }
   ],
   "source": [
    "b_yx = Sxy/Sxx\n",
    "b_xy=Sxy/Syy\n",
    "a = np.mean(y) - b_yx * np.mean(x)\n",
    "print(b_yx)\n"
   ]
  },
  {
   "cell_type": "code",
   "execution_count": 17,
   "id": "51a73819",
   "metadata": {},
   "outputs": [
    {
     "data": {
      "text/plain": [
       "1.9807993169735023"
      ]
     },
     "execution_count": 17,
     "metadata": {},
     "output_type": "execute_result"
    }
   ],
   "source": [
    "b_xy=Sxy/Syy\n",
    "b_xy"
   ]
  },
  {
   "cell_type": "code",
   "execution_count": 18,
   "id": "2aa99a52",
   "metadata": {},
   "outputs": [
    {
     "data": {
      "text/plain": [
       "3.494564039409738"
      ]
     },
     "execution_count": 18,
     "metadata": {},
     "output_type": "execute_result"
    }
   ],
   "source": [
    "pre1=a+b_yx*1990\n",
    "pre1"
   ]
  },
  {
   "cell_type": "code",
   "execution_count": 19,
   "id": "fbdb5ceb",
   "metadata": {},
   "outputs": [
    {
     "data": {
      "text/plain": [
       "3.9749778325131047"
      ]
     },
     "execution_count": 19,
     "metadata": {},
     "output_type": "execute_result"
    }
   ],
   "source": [
    "pre2=a+b_yx*1991\n",
    "pre2"
   ]
  },
  {
   "cell_type": "code",
   "execution_count": 20,
   "id": "cab1e7a3",
   "metadata": {},
   "outputs": [
    {
     "data": {
      "text/plain": [
       "4.455391625616471"
      ]
     },
     "execution_count": 20,
     "metadata": {},
     "output_type": "execute_result"
    }
   ],
   "source": [
    "pre3=a+b_yx*1992\n",
    "pre3"
   ]
  },
  {
   "cell_type": "code",
   "execution_count": 21,
   "id": "7d1fb7dc",
   "metadata": {},
   "outputs": [
    {
     "data": {
      "text/plain": [
       "4.935805418719838"
      ]
     },
     "execution_count": 21,
     "metadata": {},
     "output_type": "execute_result"
    }
   ],
   "source": [
    "pre4=a+b_yx*1993\n",
    "pre4"
   ]
  },
  {
   "cell_type": "code",
   "execution_count": 22,
   "id": "01436d61",
   "metadata": {},
   "outputs": [
    {
     "data": {
      "text/plain": [
       "5.416219211823318"
      ]
     },
     "execution_count": 22,
     "metadata": {},
     "output_type": "execute_result"
    }
   ],
   "source": [
    "pre5=a+b_yx*1994\n",
    "pre5"
   ]
  },
  {
   "cell_type": "code",
   "execution_count": 23,
   "id": "5bef8353",
   "metadata": {},
   "outputs": [
    {
     "data": {
      "text/plain": [
       "5.896633004926684"
      ]
     },
     "execution_count": 23,
     "metadata": {},
     "output_type": "execute_result"
    }
   ],
   "source": [
    "pre6=a+b_yx*1995\n",
    "pre6"
   ]
  },
  {
   "cell_type": "code",
   "execution_count": 24,
   "id": "faa02abf",
   "metadata": {},
   "outputs": [
    {
     "data": {
      "text/plain": [
       "6.377046798030051"
      ]
     },
     "execution_count": 24,
     "metadata": {},
     "output_type": "execute_result"
    }
   ],
   "source": [
    "pre7=a+b_yx*1996\n",
    "pre7"
   ]
  },
  {
   "cell_type": "code",
   "execution_count": 25,
   "id": "a268632a",
   "metadata": {},
   "outputs": [
    {
     "data": {
      "text/plain": [
       "6.857460591133417"
      ]
     },
     "execution_count": 25,
     "metadata": {},
     "output_type": "execute_result"
    }
   ],
   "source": [
    "pre8=a+b_yx*1997\n",
    "pre8"
   ]
  },
  {
   "cell_type": "code",
   "execution_count": 26,
   "id": "d8643c72",
   "metadata": {},
   "outputs": [
    {
     "data": {
      "text/plain": [
       "7.337874384236784"
      ]
     },
     "execution_count": 26,
     "metadata": {},
     "output_type": "execute_result"
    }
   ],
   "source": [
    "pre9=a+b_yx*1998\n",
    "pre9"
   ]
  },
  {
   "cell_type": "code",
   "execution_count": 27,
   "id": "bc61a27a",
   "metadata": {},
   "outputs": [
    {
     "data": {
      "text/plain": [
       "7.8182881773401505"
      ]
     },
     "execution_count": 27,
     "metadata": {},
     "output_type": "execute_result"
    }
   ],
   "source": [
    "pre10=a+b_yx*1999\n",
    "pre10"
   ]
  },
  {
   "cell_type": "code",
   "execution_count": 28,
   "id": "18c64414",
   "metadata": {},
   "outputs": [
    {
     "data": {
      "text/plain": [
       "8.29870197044363"
      ]
     },
     "execution_count": 28,
     "metadata": {},
     "output_type": "execute_result"
    }
   ],
   "source": [
    "pre11=a+b_yx*2000\n",
    "pre11"
   ]
  },
  {
   "cell_type": "code",
   "execution_count": 29,
   "id": "3bd4a8dd",
   "metadata": {},
   "outputs": [
    {
     "data": {
      "text/plain": [
       "8.779115763546997"
      ]
     },
     "execution_count": 29,
     "metadata": {},
     "output_type": "execute_result"
    }
   ],
   "source": [
    "pre12=a+b_yx*2001\n",
    "pre12"
   ]
  },
  {
   "cell_type": "code",
   "execution_count": 30,
   "id": "3fd9622c",
   "metadata": {},
   "outputs": [
    {
     "data": {
      "text/plain": [
       "9.259529556650364"
      ]
     },
     "execution_count": 30,
     "metadata": {},
     "output_type": "execute_result"
    }
   ],
   "source": [
    "pre13=a+b_yx*2002\n",
    "pre13"
   ]
  },
  {
   "cell_type": "code",
   "execution_count": 31,
   "id": "0463acb9",
   "metadata": {},
   "outputs": [
    {
     "data": {
      "text/plain": [
       "9.73994334975373"
      ]
     },
     "execution_count": 31,
     "metadata": {},
     "output_type": "execute_result"
    }
   ],
   "source": [
    "pre14=a+b_yx*2003\n",
    "pre14"
   ]
  },
  {
   "cell_type": "code",
   "execution_count": 32,
   "id": "792ba3f5",
   "metadata": {},
   "outputs": [
    {
     "data": {
      "text/plain": [
       "10.220357142857097"
      ]
     },
     "execution_count": 32,
     "metadata": {},
     "output_type": "execute_result"
    }
   ],
   "source": [
    "pre15=a+b_yx*2004\n",
    "pre15"
   ]
  },
  {
   "cell_type": "code",
   "execution_count": 33,
   "id": "e9c8bbdf",
   "metadata": {},
   "outputs": [
    {
     "data": {
      "text/plain": [
       "10.700770935960577"
      ]
     },
     "execution_count": 33,
     "metadata": {},
     "output_type": "execute_result"
    }
   ],
   "source": [
    "pre16=a+b_yx*2005\n",
    "pre16"
   ]
  },
  {
   "cell_type": "code",
   "execution_count": 34,
   "id": "6b0d37e2",
   "metadata": {},
   "outputs": [
    {
     "data": {
      "text/plain": [
       "11.181184729063943"
      ]
     },
     "execution_count": 34,
     "metadata": {},
     "output_type": "execute_result"
    }
   ],
   "source": [
    "pre17=a+b_yx*2006\n",
    "pre17"
   ]
  },
  {
   "cell_type": "code",
   "execution_count": 35,
   "id": "28a4559a",
   "metadata": {},
   "outputs": [
    {
     "data": {
      "text/plain": [
       "11.66159852216731"
      ]
     },
     "execution_count": 35,
     "metadata": {},
     "output_type": "execute_result"
    }
   ],
   "source": [
    "pre18=a+b_yx*2007\n",
    "pre18"
   ]
  },
  {
   "cell_type": "code",
   "execution_count": 36,
   "id": "350702a4",
   "metadata": {},
   "outputs": [
    {
     "data": {
      "text/plain": [
       "12.142012315270676"
      ]
     },
     "execution_count": 36,
     "metadata": {},
     "output_type": "execute_result"
    }
   ],
   "source": [
    "pre19=a+b_yx*2008\n",
    "pre19"
   ]
  },
  {
   "cell_type": "code",
   "execution_count": 37,
   "id": "eb09c769",
   "metadata": {},
   "outputs": [
    {
     "data": {
      "text/plain": [
       "12.622426108374043"
      ]
     },
     "execution_count": 37,
     "metadata": {},
     "output_type": "execute_result"
    }
   ],
   "source": [
    "pre20=a+b_yx*2009\n",
    "pre20"
   ]
  },
  {
   "cell_type": "code",
   "execution_count": 38,
   "id": "6b4c2df3",
   "metadata": {},
   "outputs": [
    {
     "data": {
      "text/plain": [
       "13.10283990147741"
      ]
     },
     "execution_count": 38,
     "metadata": {},
     "output_type": "execute_result"
    }
   ],
   "source": [
    "pre21=a+b_yx*2010\n",
    "pre21"
   ]
  },
  {
   "cell_type": "code",
   "execution_count": 39,
   "id": "65d6362c",
   "metadata": {},
   "outputs": [
    {
     "data": {
      "text/plain": [
       "13.58325369458089"
      ]
     },
     "execution_count": 39,
     "metadata": {},
     "output_type": "execute_result"
    }
   ],
   "source": [
    "pre22=a+b_yx*2011\n",
    "pre22"
   ]
  },
  {
   "cell_type": "code",
   "execution_count": 40,
   "id": "f7ce9fe2",
   "metadata": {},
   "outputs": [
    {
     "data": {
      "text/plain": [
       "14.063667487684256"
      ]
     },
     "execution_count": 40,
     "metadata": {},
     "output_type": "execute_result"
    }
   ],
   "source": [
    "pre23=a+b_yx*2012\n",
    "pre23"
   ]
  },
  {
   "cell_type": "code",
   "execution_count": 41,
   "id": "764d5147",
   "metadata": {},
   "outputs": [
    {
     "data": {
      "text/plain": [
       "14.544081280787623"
      ]
     },
     "execution_count": 41,
     "metadata": {},
     "output_type": "execute_result"
    }
   ],
   "source": [
    "pre24=a+b_yx*2013\n",
    "pre24"
   ]
  },
  {
   "cell_type": "code",
   "execution_count": 42,
   "id": "2b4982c2",
   "metadata": {},
   "outputs": [
    {
     "data": {
      "text/plain": [
       "15.02449507389099"
      ]
     },
     "execution_count": 42,
     "metadata": {},
     "output_type": "execute_result"
    }
   ],
   "source": [
    "pre25=a+b_yx*2014\n",
    "pre25"
   ]
  },
  {
   "cell_type": "code",
   "execution_count": 43,
   "id": "85f103c9",
   "metadata": {},
   "outputs": [
    {
     "data": {
      "text/plain": [
       "15.504908866994356"
      ]
     },
     "execution_count": 43,
     "metadata": {},
     "output_type": "execute_result"
    }
   ],
   "source": [
    "pre26=a+b_yx*2015\n",
    "pre26"
   ]
  },
  {
   "cell_type": "code",
   "execution_count": 44,
   "id": "f2d5f273",
   "metadata": {},
   "outputs": [
    {
     "data": {
      "text/html": [
       "<div>\n",
       "<style scoped>\n",
       "    .dataframe tbody tr th:only-of-type {\n",
       "        vertical-align: middle;\n",
       "    }\n",
       "\n",
       "    .dataframe tbody tr th {\n",
       "        vertical-align: top;\n",
       "    }\n",
       "\n",
       "    .dataframe thead th {\n",
       "        text-align: right;\n",
       "    }\n",
       "</style>\n",
       "<table border=\"1\" class=\"dataframe\">\n",
       "  <thead>\n",
       "    <tr style=\"text-align: right;\">\n",
       "      <th></th>\n",
       "      <th>Year</th>\n",
       "      <th>Agriculture (MTCO2e)</th>\n",
       "      <th>Industrial process(MTCO2e)</th>\n",
       "      <th>Bunker(MTCO2e)</th>\n",
       "      <th>Waste(MTCO2e)</th>\n",
       "      <th>Elecricity(MTCO2e)</th>\n",
       "      <th>Manufacture and cunstruction(MTCO2e)</th>\n",
       "      <th>Transportation(MTCO2e)</th>\n",
       "      <th>Fugate emission(MTCO2e)</th>\n",
       "      <th>Other(MTCO2e)</th>\n",
       "    </tr>\n",
       "  </thead>\n",
       "  <tbody>\n",
       "    <tr>\n",
       "      <th>0</th>\n",
       "      <td>1990</td>\n",
       "      <td>566.55</td>\n",
       "      <td>26.50</td>\n",
       "      <td>5.120000</td>\n",
       "      <td>24.540000</td>\n",
       "      <td>231.23000</td>\n",
       "      <td>256.46</td>\n",
       "      <td>64.35</td>\n",
       "      <td>36.520000</td>\n",
       "      <td>70.59</td>\n",
       "    </tr>\n",
       "    <tr>\n",
       "      <th>1</th>\n",
       "      <td>1991</td>\n",
       "      <td>573.97</td>\n",
       "      <td>29.00</td>\n",
       "      <td>4.870000</td>\n",
       "      <td>25.790000</td>\n",
       "      <td>258.36000</td>\n",
       "      <td>284.16</td>\n",
       "      <td>66.35</td>\n",
       "      <td>39.080000</td>\n",
       "      <td>75.55</td>\n",
       "    </tr>\n",
       "    <tr>\n",
       "      <th>2</th>\n",
       "      <td>1992</td>\n",
       "      <td>580.41</td>\n",
       "      <td>30.06</td>\n",
       "      <td>4.950000</td>\n",
       "      <td>25.860000</td>\n",
       "      <td>278.36000</td>\n",
       "      <td>304.23</td>\n",
       "      <td>68.69</td>\n",
       "      <td>38.630000</td>\n",
       "      <td>76.44</td>\n",
       "    </tr>\n",
       "    <tr>\n",
       "      <th>3</th>\n",
       "      <td>1993</td>\n",
       "      <td>587.12</td>\n",
       "      <td>31.06</td>\n",
       "      <td>5.400000</td>\n",
       "      <td>26.500000</td>\n",
       "      <td>306.80000</td>\n",
       "      <td>333.33</td>\n",
       "      <td>68.99</td>\n",
       "      <td>35.060000</td>\n",
       "      <td>76.09</td>\n",
       "    </tr>\n",
       "    <tr>\n",
       "      <th>4</th>\n",
       "      <td>1994</td>\n",
       "      <td>595.12</td>\n",
       "      <td>34.05</td>\n",
       "      <td>5.840000</td>\n",
       "      <td>62.277143</td>\n",
       "      <td>319.80000</td>\n",
       "      <td>347.21</td>\n",
       "      <td>70.81</td>\n",
       "      <td>35.470000</td>\n",
       "      <td>81.45</td>\n",
       "    </tr>\n",
       "    <tr>\n",
       "      <th>5</th>\n",
       "      <td>1995</td>\n",
       "      <td>599.54</td>\n",
       "      <td>37.25</td>\n",
       "      <td>6.360000</td>\n",
       "      <td>32.600000</td>\n",
       "      <td>364.89000</td>\n",
       "      <td>397.58</td>\n",
       "      <td>78.29</td>\n",
       "      <td>37.000000</td>\n",
       "      <td>84.92</td>\n",
       "    </tr>\n",
       "    <tr>\n",
       "      <th>6</th>\n",
       "      <td>1996</td>\n",
       "      <td>607.06</td>\n",
       "      <td>41.94</td>\n",
       "      <td>6.630000</td>\n",
       "      <td>44.390000</td>\n",
       "      <td>388.13000</td>\n",
       "      <td>737.23</td>\n",
       "      <td>83.78</td>\n",
       "      <td>36.490000</td>\n",
       "      <td>88.80</td>\n",
       "    </tr>\n",
       "    <tr>\n",
       "      <th>7</th>\n",
       "      <td>1997</td>\n",
       "      <td>612.43</td>\n",
       "      <td>46.45</td>\n",
       "      <td>6.570000</td>\n",
       "      <td>50.150000</td>\n",
       "      <td>402.10000</td>\n",
       "      <td>446.25</td>\n",
       "      <td>85.50</td>\n",
       "      <td>36.970000</td>\n",
       "      <td>93.64</td>\n",
       "    </tr>\n",
       "    <tr>\n",
       "      <th>8</th>\n",
       "      <td>1998</td>\n",
       "      <td>619.68</td>\n",
       "      <td>49.88</td>\n",
       "      <td>6.680000</td>\n",
       "      <td>55.880000</td>\n",
       "      <td>418.14000</td>\n",
       "      <td>468.25</td>\n",
       "      <td>88.78</td>\n",
       "      <td>37.760000</td>\n",
       "      <td>84.94</td>\n",
       "    </tr>\n",
       "    <tr>\n",
       "      <th>9</th>\n",
       "      <td>1999</td>\n",
       "      <td>623.28</td>\n",
       "      <td>55.60</td>\n",
       "      <td>7.030000</td>\n",
       "      <td>61.680000</td>\n",
       "      <td>459.23000</td>\n",
       "      <td>515.53</td>\n",
       "      <td>97.81</td>\n",
       "      <td>38.180000</td>\n",
       "      <td>97.45</td>\n",
       "    </tr>\n",
       "    <tr>\n",
       "      <th>10</th>\n",
       "      <td>2000</td>\n",
       "      <td>617.94</td>\n",
       "      <td>57.49</td>\n",
       "      <td>7.210000</td>\n",
       "      <td>62.890000</td>\n",
       "      <td>491.35000</td>\n",
       "      <td>552.86</td>\n",
       "      <td>95.05</td>\n",
       "      <td>37.620000</td>\n",
       "      <td>91.04</td>\n",
       "    </tr>\n",
       "    <tr>\n",
       "      <th>11</th>\n",
       "      <td>2001</td>\n",
       "      <td>623.04</td>\n",
       "      <td>59.21</td>\n",
       "      <td>7.290000</td>\n",
       "      <td>64.170000</td>\n",
       "      <td>505.36000</td>\n",
       "      <td>568.25</td>\n",
       "      <td>94.91</td>\n",
       "      <td>40.060000</td>\n",
       "      <td>92.97</td>\n",
       "    </tr>\n",
       "    <tr>\n",
       "      <th>12</th>\n",
       "      <td>2002</td>\n",
       "      <td>607.05</td>\n",
       "      <td>63.06</td>\n",
       "      <td>7.390000</td>\n",
       "      <td>65.440000</td>\n",
       "      <td>515.58000</td>\n",
       "      <td>577.75</td>\n",
       "      <td>97.74</td>\n",
       "      <td>43.540000</td>\n",
       "      <td>95.96</td>\n",
       "    </tr>\n",
       "    <tr>\n",
       "      <th>13</th>\n",
       "      <td>2003</td>\n",
       "      <td>618.55</td>\n",
       "      <td>66.10</td>\n",
       "      <td>8.090000</td>\n",
       "      <td>66.710000</td>\n",
       "      <td>643.89963</td>\n",
       "      <td>601.25</td>\n",
       "      <td>99.53</td>\n",
       "      <td>47.085357</td>\n",
       "      <td>104.04</td>\n",
       "    </tr>\n",
       "    <tr>\n",
       "      <th>14</th>\n",
       "      <td>2004</td>\n",
       "      <td>620.63</td>\n",
       "      <td>68.12</td>\n",
       "      <td>10.220357</td>\n",
       "      <td>67.980000</td>\n",
       "      <td>584.73000</td>\n",
       "      <td>651.25</td>\n",
       "      <td>108.05</td>\n",
       "      <td>47.360000</td>\n",
       "      <td>105.05</td>\n",
       "    </tr>\n",
       "    <tr>\n",
       "      <th>15</th>\n",
       "      <td>2005</td>\n",
       "      <td>647.22</td>\n",
       "      <td>72.00</td>\n",
       "      <td>9.710000</td>\n",
       "      <td>70.530000</td>\n",
       "      <td>599.57000</td>\n",
       "      <td>667.58</td>\n",
       "      <td>115.40</td>\n",
       "      <td>50.110000</td>\n",
       "      <td>105.99</td>\n",
       "    </tr>\n",
       "    <tr>\n",
       "      <th>16</th>\n",
       "      <td>2006</td>\n",
       "      <td>662.25</td>\n",
       "      <td>76.20</td>\n",
       "      <td>11.290000</td>\n",
       "      <td>71.800000</td>\n",
       "      <td>638.85000</td>\n",
       "      <td>708.12</td>\n",
       "      <td>120.65</td>\n",
       "      <td>52.110000</td>\n",
       "      <td>106.26</td>\n",
       "    </tr>\n",
       "    <tr>\n",
       "      <th>17</th>\n",
       "      <td>2007</td>\n",
       "      <td>679.25</td>\n",
       "      <td>81.25</td>\n",
       "      <td>12.740000</td>\n",
       "      <td>73.070000</td>\n",
       "      <td>701.88000</td>\n",
       "      <td>793.48</td>\n",
       "      <td>142.98</td>\n",
       "      <td>55.000000</td>\n",
       "      <td>130.07</td>\n",
       "    </tr>\n",
       "    <tr>\n",
       "      <th>18</th>\n",
       "      <td>2008</td>\n",
       "      <td>681.39</td>\n",
       "      <td>86.19</td>\n",
       "      <td>12.510000</td>\n",
       "      <td>71.800000</td>\n",
       "      <td>721.88000</td>\n",
       "      <td>862.58</td>\n",
       "      <td>163.21</td>\n",
       "      <td>55.660000</td>\n",
       "      <td>130.34</td>\n",
       "    </tr>\n",
       "    <tr>\n",
       "      <th>19</th>\n",
       "      <td>2009</td>\n",
       "      <td>689.66</td>\n",
       "      <td>98.63</td>\n",
       "      <td>13.280000</td>\n",
       "      <td>73.070000</td>\n",
       "      <td>789.51000</td>\n",
       "      <td>737.23</td>\n",
       "      <td>178.71</td>\n",
       "      <td>60.050000</td>\n",
       "      <td>128.53</td>\n",
       "    </tr>\n",
       "    <tr>\n",
       "      <th>20</th>\n",
       "      <td>2010</td>\n",
       "      <td>691.44</td>\n",
       "      <td>105.42</td>\n",
       "      <td>13.970000</td>\n",
       "      <td>74.340000</td>\n",
       "      <td>819.68000</td>\n",
       "      <td>935.68</td>\n",
       "      <td>192.92</td>\n",
       "      <td>59.040000</td>\n",
       "      <td>129.54</td>\n",
       "    </tr>\n",
       "    <tr>\n",
       "      <th>21</th>\n",
       "      <td>2011</td>\n",
       "      <td>701.81</td>\n",
       "      <td>11.41</td>\n",
       "      <td>14.400000</td>\n",
       "      <td>75.450000</td>\n",
       "      <td>860.23000</td>\n",
       "      <td>1065.68</td>\n",
       "      <td>209.29</td>\n",
       "      <td>58.350000</td>\n",
       "      <td>113.84</td>\n",
       "    </tr>\n",
       "    <tr>\n",
       "      <th>22</th>\n",
       "      <td>2012</td>\n",
       "      <td>695.63</td>\n",
       "      <td>117.19</td>\n",
       "      <td>13.510000</td>\n",
       "      <td>76.560000</td>\n",
       "      <td>643.89963</td>\n",
       "      <td>1083.70</td>\n",
       "      <td>221.52</td>\n",
       "      <td>57.070000</td>\n",
       "      <td>126.40</td>\n",
       "    </tr>\n",
       "    <tr>\n",
       "      <th>23</th>\n",
       "      <td>2013</td>\n",
       "      <td>698.17</td>\n",
       "      <td>120.95</td>\n",
       "      <td>13.870000</td>\n",
       "      <td>77.670000</td>\n",
       "      <td>1006.04000</td>\n",
       "      <td>1202.22</td>\n",
       "      <td>226.26</td>\n",
       "      <td>56.110000</td>\n",
       "      <td>120.98</td>\n",
       "    </tr>\n",
       "    <tr>\n",
       "      <th>24</th>\n",
       "      <td>2014</td>\n",
       "      <td>699.71</td>\n",
       "      <td>125.52</td>\n",
       "      <td>14.210000</td>\n",
       "      <td>78.780000</td>\n",
       "      <td>1123.44000</td>\n",
       "      <td>1183.12</td>\n",
       "      <td>235.75</td>\n",
       "      <td>55.260000</td>\n",
       "      <td>125.33</td>\n",
       "    </tr>\n",
       "    <tr>\n",
       "      <th>25</th>\n",
       "      <td>2015</td>\n",
       "      <td>700.01</td>\n",
       "      <td>130.19</td>\n",
       "      <td>15.240000</td>\n",
       "      <td>79.890000</td>\n",
       "      <td>1103.23000</td>\n",
       "      <td>1178.79</td>\n",
       "      <td>252.25</td>\n",
       "      <td>55.280000</td>\n",
       "      <td>125.77</td>\n",
       "    </tr>\n",
       "    <tr>\n",
       "      <th>26</th>\n",
       "      <td>2016</td>\n",
       "      <td>703.63</td>\n",
       "      <td>130.61</td>\n",
       "      <td>16.370000</td>\n",
       "      <td>80.980000</td>\n",
       "      <td>1097.81000</td>\n",
       "      <td>1239.84</td>\n",
       "      <td>269.40</td>\n",
       "      <td>54.940000</td>\n",
       "      <td>128.45</td>\n",
       "    </tr>\n",
       "    <tr>\n",
       "      <th>27</th>\n",
       "      <td>2017</td>\n",
       "      <td>709.50</td>\n",
       "      <td>130.52</td>\n",
       "      <td>17.110000</td>\n",
       "      <td>82.070000</td>\n",
       "      <td>1157.77000</td>\n",
       "      <td>1324.51</td>\n",
       "      <td>291.29</td>\n",
       "      <td>54.410000</td>\n",
       "      <td>131.14</td>\n",
       "    </tr>\n",
       "    <tr>\n",
       "      <th>28</th>\n",
       "      <td>2018</td>\n",
       "      <td>718.70</td>\n",
       "      <td>148.54</td>\n",
       "      <td>18.530000</td>\n",
       "      <td>83.170000</td>\n",
       "      <td>1241.34000</td>\n",
       "      <td>1355.55</td>\n",
       "      <td>305.33</td>\n",
       "      <td>55.260000</td>\n",
       "      <td>133.28</td>\n",
       "    </tr>\n",
       "  </tbody>\n",
       "</table>\n",
       "</div>"
      ],
      "text/plain": [
       "    Year  Agriculture (MTCO2e)  Industrial process(MTCO2e)  Bunker(MTCO2e)  \\\n",
       "0   1990                566.55                       26.50        5.120000   \n",
       "1   1991                573.97                       29.00        4.870000   \n",
       "2   1992                580.41                       30.06        4.950000   \n",
       "3   1993                587.12                       31.06        5.400000   \n",
       "4   1994                595.12                       34.05        5.840000   \n",
       "5   1995                599.54                       37.25        6.360000   \n",
       "6   1996                607.06                       41.94        6.630000   \n",
       "7   1997                612.43                       46.45        6.570000   \n",
       "8   1998                619.68                       49.88        6.680000   \n",
       "9   1999                623.28                       55.60        7.030000   \n",
       "10  2000                617.94                       57.49        7.210000   \n",
       "11  2001                623.04                       59.21        7.290000   \n",
       "12  2002                607.05                       63.06        7.390000   \n",
       "13  2003                618.55                       66.10        8.090000   \n",
       "14  2004                620.63                       68.12       10.220357   \n",
       "15  2005                647.22                       72.00        9.710000   \n",
       "16  2006                662.25                       76.20       11.290000   \n",
       "17  2007                679.25                       81.25       12.740000   \n",
       "18  2008                681.39                       86.19       12.510000   \n",
       "19  2009                689.66                       98.63       13.280000   \n",
       "20  2010                691.44                      105.42       13.970000   \n",
       "21  2011                701.81                       11.41       14.400000   \n",
       "22  2012                695.63                      117.19       13.510000   \n",
       "23  2013                698.17                      120.95       13.870000   \n",
       "24  2014                699.71                      125.52       14.210000   \n",
       "25  2015                700.01                      130.19       15.240000   \n",
       "26  2016                703.63                      130.61       16.370000   \n",
       "27  2017                709.50                      130.52       17.110000   \n",
       "28  2018                718.70                      148.54       18.530000   \n",
       "\n",
       "    Waste(MTCO2e)  Elecricity(MTCO2e)  Manufacture and cunstruction(MTCO2e)  \\\n",
       "0       24.540000           231.23000                                256.46   \n",
       "1       25.790000           258.36000                                284.16   \n",
       "2       25.860000           278.36000                                304.23   \n",
       "3       26.500000           306.80000                                333.33   \n",
       "4       62.277143           319.80000                                347.21   \n",
       "5       32.600000           364.89000                                397.58   \n",
       "6       44.390000           388.13000                                737.23   \n",
       "7       50.150000           402.10000                                446.25   \n",
       "8       55.880000           418.14000                                468.25   \n",
       "9       61.680000           459.23000                                515.53   \n",
       "10      62.890000           491.35000                                552.86   \n",
       "11      64.170000           505.36000                                568.25   \n",
       "12      65.440000           515.58000                                577.75   \n",
       "13      66.710000           643.89963                                601.25   \n",
       "14      67.980000           584.73000                                651.25   \n",
       "15      70.530000           599.57000                                667.58   \n",
       "16      71.800000           638.85000                                708.12   \n",
       "17      73.070000           701.88000                                793.48   \n",
       "18      71.800000           721.88000                                862.58   \n",
       "19      73.070000           789.51000                                737.23   \n",
       "20      74.340000           819.68000                                935.68   \n",
       "21      75.450000           860.23000                               1065.68   \n",
       "22      76.560000           643.89963                               1083.70   \n",
       "23      77.670000          1006.04000                               1202.22   \n",
       "24      78.780000          1123.44000                               1183.12   \n",
       "25      79.890000          1103.23000                               1178.79   \n",
       "26      80.980000          1097.81000                               1239.84   \n",
       "27      82.070000          1157.77000                               1324.51   \n",
       "28      83.170000          1241.34000                               1355.55   \n",
       "\n",
       "    Transportation(MTCO2e)  Fugate emission(MTCO2e)  Other(MTCO2e)  \n",
       "0                    64.35                36.520000          70.59  \n",
       "1                    66.35                39.080000          75.55  \n",
       "2                    68.69                38.630000          76.44  \n",
       "3                    68.99                35.060000          76.09  \n",
       "4                    70.81                35.470000          81.45  \n",
       "5                    78.29                37.000000          84.92  \n",
       "6                    83.78                36.490000          88.80  \n",
       "7                    85.50                36.970000          93.64  \n",
       "8                    88.78                37.760000          84.94  \n",
       "9                    97.81                38.180000          97.45  \n",
       "10                   95.05                37.620000          91.04  \n",
       "11                   94.91                40.060000          92.97  \n",
       "12                   97.74                43.540000          95.96  \n",
       "13                   99.53                47.085357         104.04  \n",
       "14                  108.05                47.360000         105.05  \n",
       "15                  115.40                50.110000         105.99  \n",
       "16                  120.65                52.110000         106.26  \n",
       "17                  142.98                55.000000         130.07  \n",
       "18                  163.21                55.660000         130.34  \n",
       "19                  178.71                60.050000         128.53  \n",
       "20                  192.92                59.040000         129.54  \n",
       "21                  209.29                58.350000         113.84  \n",
       "22                  221.52                57.070000         126.40  \n",
       "23                  226.26                56.110000         120.98  \n",
       "24                  235.75                55.260000         125.33  \n",
       "25                  252.25                55.280000         125.77  \n",
       "26                  269.40                54.940000         128.45  \n",
       "27                  291.29                54.410000         131.14  \n",
       "28                  305.33                55.260000         133.28  "
      ]
     },
     "execution_count": 44,
     "metadata": {},
     "output_type": "execute_result"
    }
   ],
   "source": [
    "data"
   ]
  },
  {
   "cell_type": "code",
   "execution_count": 45,
   "id": "6da629b1",
   "metadata": {},
   "outputs": [],
   "source": [
    "bunk=df[['Year','Bunker(MTCO2e)']]"
   ]
  },
  {
   "cell_type": "code",
   "execution_count": null,
   "id": "d2ec0936",
   "metadata": {},
   "outputs": [],
   "source": []
  },
  {
   "cell_type": "code",
   "execution_count": null,
   "id": "ef56d4ff",
   "metadata": {},
   "outputs": [],
   "source": []
  },
  {
   "cell_type": "code",
   "execution_count": null,
   "id": "4f371220",
   "metadata": {},
   "outputs": [],
   "source": []
  },
  {
   "cell_type": "code",
   "execution_count": 46,
   "id": "ec0c0883",
   "metadata": {},
   "outputs": [
    {
     "data": {
      "text/plain": [
       "15.985322660097722"
      ]
     },
     "execution_count": 46,
     "metadata": {},
     "output_type": "execute_result"
    }
   ],
   "source": [
    "pre27=a+b_yx*2016\n",
    "pre27"
   ]
  },
  {
   "cell_type": "code",
   "execution_count": 47,
   "id": "d722e187",
   "metadata": {},
   "outputs": [
    {
     "data": {
      "text/plain": [
       "16.465736453201202"
      ]
     },
     "execution_count": 47,
     "metadata": {},
     "output_type": "execute_result"
    }
   ],
   "source": [
    "pre28=a+b_yx*2017\n",
    "pre28"
   ]
  },
  {
   "cell_type": "code",
   "execution_count": 48,
   "id": "dea93c00",
   "metadata": {},
   "outputs": [
    {
     "data": {
      "text/plain": [
       "16.94615024630457"
      ]
     },
     "execution_count": 48,
     "metadata": {},
     "output_type": "execute_result"
    }
   ],
   "source": [
    "pre29=a+b_yx*2018\n",
    "pre29"
   ]
  },
  {
   "cell_type": "code",
   "execution_count": 49,
   "id": "d489cbeb",
   "metadata": {},
   "outputs": [
    {
     "data": {
      "text/plain": [
       "17.426564039407936"
      ]
     },
     "execution_count": 49,
     "metadata": {},
     "output_type": "execute_result"
    }
   ],
   "source": [
    "pre30=a+b_yx*2019\n",
    "pre30"
   ]
  },
  {
   "cell_type": "code",
   "execution_count": null,
   "id": "b6e14fca",
   "metadata": {},
   "outputs": [],
   "source": []
  },
  {
   "cell_type": "code",
   "execution_count": 50,
   "id": "2e8a9842",
   "metadata": {},
   "outputs": [
    {
     "data": {
      "text/plain": [
       "17.906977832511302"
      ]
     },
     "execution_count": 50,
     "metadata": {},
     "output_type": "execute_result"
    }
   ],
   "source": [
    "pre_1=a+b_yx*2020\n",
    "pre_1"
   ]
  },
  {
   "cell_type": "code",
   "execution_count": 51,
   "id": "a34eba44",
   "metadata": {},
   "outputs": [
    {
     "data": {
      "text/plain": [
       "18.38739162561467"
      ]
     },
     "execution_count": 51,
     "metadata": {},
     "output_type": "execute_result"
    }
   ],
   "source": [
    "pre_2=a+b_yx*2021\n",
    "pre_2"
   ]
  },
  {
   "cell_type": "code",
   "execution_count": null,
   "id": "5a0a0eba",
   "metadata": {},
   "outputs": [],
   "source": []
  },
  {
   "cell_type": "code",
   "execution_count": 52,
   "id": "6089463e",
   "metadata": {},
   "outputs": [
    {
     "data": {
      "text/plain": [
       "18.867805418718035"
      ]
     },
     "execution_count": 52,
     "metadata": {},
     "output_type": "execute_result"
    }
   ],
   "source": [
    "pre_3=a+b_yx*2022\n",
    "pre_3"
   ]
  },
  {
   "cell_type": "code",
   "execution_count": 53,
   "id": "c24c6f59",
   "metadata": {},
   "outputs": [
    {
     "data": {
      "text/plain": [
       "19.348219211821515"
      ]
     },
     "execution_count": 53,
     "metadata": {},
     "output_type": "execute_result"
    }
   ],
   "source": [
    "pre_4=a+b_yx*2023\n",
    "\n",
    "pre_4"
   ]
  },
  {
   "cell_type": "code",
   "execution_count": 54,
   "id": "5aab5419",
   "metadata": {},
   "outputs": [
    {
     "data": {
      "text/plain": [
       "19.828633004924882"
      ]
     },
     "execution_count": 54,
     "metadata": {},
     "output_type": "execute_result"
    }
   ],
   "source": [
    "pre_5=a+b_yx*2024\n",
    "pre_5"
   ]
  },
  {
   "cell_type": "code",
   "execution_count": 55,
   "id": "779cba22",
   "metadata": {},
   "outputs": [
    {
     "data": {
      "text/plain": [
       "20.30904679802825"
      ]
     },
     "execution_count": 55,
     "metadata": {},
     "output_type": "execute_result"
    }
   ],
   "source": [
    "pre_6=a+b_yx*2025\n",
    "pre_6"
   ]
  },
  {
   "cell_type": "code",
   "execution_count": null,
   "id": "39871306",
   "metadata": {},
   "outputs": [],
   "source": []
  },
  {
   "cell_type": "code",
   "execution_count": null,
   "id": "87dbf56f",
   "metadata": {},
   "outputs": [],
   "source": []
  },
  {
   "cell_type": "code",
   "execution_count": null,
   "id": "942c866d",
   "metadata": {},
   "outputs": [],
   "source": []
  },
  {
   "cell_type": "code",
   "execution_count": null,
   "id": "10c0f40e",
   "metadata": {},
   "outputs": [],
   "source": []
  },
  {
   "cell_type": "code",
   "execution_count": null,
   "id": "86ff739a",
   "metadata": {},
   "outputs": [],
   "source": []
  },
  {
   "cell_type": "code",
   "execution_count": null,
   "id": "0d4a97e5",
   "metadata": {},
   "outputs": [],
   "source": []
  },
  {
   "cell_type": "code",
   "execution_count": 56,
   "id": "db01cf10",
   "metadata": {},
   "outputs": [],
   "source": [
    "df['y_pre Bunker']=[pre1,pre2,pre3,pre4,pre5,pre6,pre7,pre8,pre9,pre10,pre11,pre12,pre13,pre14,pre15,pre16,pre17,pre18,pre19,pre20,pre21,pre22,pre23,pre23,pre24,pre25,pre26,pre27,pre28]"
   ]
  },
  {
   "cell_type": "code",
   "execution_count": 57,
   "id": "8de85cff",
   "metadata": {},
   "outputs": [
    {
     "data": {
      "text/html": [
       "<div>\n",
       "<style scoped>\n",
       "    .dataframe tbody tr th:only-of-type {\n",
       "        vertical-align: middle;\n",
       "    }\n",
       "\n",
       "    .dataframe tbody tr th {\n",
       "        vertical-align: top;\n",
       "    }\n",
       "\n",
       "    .dataframe thead th {\n",
       "        text-align: right;\n",
       "    }\n",
       "</style>\n",
       "<table border=\"1\" class=\"dataframe\">\n",
       "  <thead>\n",
       "    <tr style=\"text-align: right;\">\n",
       "      <th></th>\n",
       "      <th>Year</th>\n",
       "      <th>Agriculture (MTCO2e)</th>\n",
       "      <th>Industrial process(MTCO2e)</th>\n",
       "      <th>Bunker(MTCO2e)</th>\n",
       "      <th>Waste(MTCO2e)</th>\n",
       "      <th>Elecricity(MTCO2e)</th>\n",
       "      <th>Manufacture and cunstruction(MTCO2e)</th>\n",
       "      <th>Transportation(MTCO2e)</th>\n",
       "      <th>Fugate emission(MTCO2e)</th>\n",
       "      <th>Other(MTCO2e)</th>\n",
       "      <th>y_pre Bunker</th>\n",
       "    </tr>\n",
       "  </thead>\n",
       "  <tbody>\n",
       "    <tr>\n",
       "      <th>0</th>\n",
       "      <td>1990</td>\n",
       "      <td>566.55</td>\n",
       "      <td>26.50</td>\n",
       "      <td>5.120000</td>\n",
       "      <td>24.540000</td>\n",
       "      <td>231.23000</td>\n",
       "      <td>256.46</td>\n",
       "      <td>64.35</td>\n",
       "      <td>36.520000</td>\n",
       "      <td>70.59</td>\n",
       "      <td>3.494564</td>\n",
       "    </tr>\n",
       "    <tr>\n",
       "      <th>1</th>\n",
       "      <td>1991</td>\n",
       "      <td>573.97</td>\n",
       "      <td>29.00</td>\n",
       "      <td>4.870000</td>\n",
       "      <td>25.790000</td>\n",
       "      <td>258.36000</td>\n",
       "      <td>284.16</td>\n",
       "      <td>66.35</td>\n",
       "      <td>39.080000</td>\n",
       "      <td>75.55</td>\n",
       "      <td>3.974978</td>\n",
       "    </tr>\n",
       "    <tr>\n",
       "      <th>2</th>\n",
       "      <td>1992</td>\n",
       "      <td>580.41</td>\n",
       "      <td>30.06</td>\n",
       "      <td>4.950000</td>\n",
       "      <td>25.860000</td>\n",
       "      <td>278.36000</td>\n",
       "      <td>304.23</td>\n",
       "      <td>68.69</td>\n",
       "      <td>38.630000</td>\n",
       "      <td>76.44</td>\n",
       "      <td>4.455392</td>\n",
       "    </tr>\n",
       "    <tr>\n",
       "      <th>3</th>\n",
       "      <td>1993</td>\n",
       "      <td>587.12</td>\n",
       "      <td>31.06</td>\n",
       "      <td>5.400000</td>\n",
       "      <td>26.500000</td>\n",
       "      <td>306.80000</td>\n",
       "      <td>333.33</td>\n",
       "      <td>68.99</td>\n",
       "      <td>35.060000</td>\n",
       "      <td>76.09</td>\n",
       "      <td>4.935805</td>\n",
       "    </tr>\n",
       "    <tr>\n",
       "      <th>4</th>\n",
       "      <td>1994</td>\n",
       "      <td>595.12</td>\n",
       "      <td>34.05</td>\n",
       "      <td>5.840000</td>\n",
       "      <td>62.277143</td>\n",
       "      <td>319.80000</td>\n",
       "      <td>347.21</td>\n",
       "      <td>70.81</td>\n",
       "      <td>35.470000</td>\n",
       "      <td>81.45</td>\n",
       "      <td>5.416219</td>\n",
       "    </tr>\n",
       "    <tr>\n",
       "      <th>5</th>\n",
       "      <td>1995</td>\n",
       "      <td>599.54</td>\n",
       "      <td>37.25</td>\n",
       "      <td>6.360000</td>\n",
       "      <td>32.600000</td>\n",
       "      <td>364.89000</td>\n",
       "      <td>397.58</td>\n",
       "      <td>78.29</td>\n",
       "      <td>37.000000</td>\n",
       "      <td>84.92</td>\n",
       "      <td>5.896633</td>\n",
       "    </tr>\n",
       "    <tr>\n",
       "      <th>6</th>\n",
       "      <td>1996</td>\n",
       "      <td>607.06</td>\n",
       "      <td>41.94</td>\n",
       "      <td>6.630000</td>\n",
       "      <td>44.390000</td>\n",
       "      <td>388.13000</td>\n",
       "      <td>737.23</td>\n",
       "      <td>83.78</td>\n",
       "      <td>36.490000</td>\n",
       "      <td>88.80</td>\n",
       "      <td>6.377047</td>\n",
       "    </tr>\n",
       "    <tr>\n",
       "      <th>7</th>\n",
       "      <td>1997</td>\n",
       "      <td>612.43</td>\n",
       "      <td>46.45</td>\n",
       "      <td>6.570000</td>\n",
       "      <td>50.150000</td>\n",
       "      <td>402.10000</td>\n",
       "      <td>446.25</td>\n",
       "      <td>85.50</td>\n",
       "      <td>36.970000</td>\n",
       "      <td>93.64</td>\n",
       "      <td>6.857461</td>\n",
       "    </tr>\n",
       "    <tr>\n",
       "      <th>8</th>\n",
       "      <td>1998</td>\n",
       "      <td>619.68</td>\n",
       "      <td>49.88</td>\n",
       "      <td>6.680000</td>\n",
       "      <td>55.880000</td>\n",
       "      <td>418.14000</td>\n",
       "      <td>468.25</td>\n",
       "      <td>88.78</td>\n",
       "      <td>37.760000</td>\n",
       "      <td>84.94</td>\n",
       "      <td>7.337874</td>\n",
       "    </tr>\n",
       "    <tr>\n",
       "      <th>9</th>\n",
       "      <td>1999</td>\n",
       "      <td>623.28</td>\n",
       "      <td>55.60</td>\n",
       "      <td>7.030000</td>\n",
       "      <td>61.680000</td>\n",
       "      <td>459.23000</td>\n",
       "      <td>515.53</td>\n",
       "      <td>97.81</td>\n",
       "      <td>38.180000</td>\n",
       "      <td>97.45</td>\n",
       "      <td>7.818288</td>\n",
       "    </tr>\n",
       "    <tr>\n",
       "      <th>10</th>\n",
       "      <td>2000</td>\n",
       "      <td>617.94</td>\n",
       "      <td>57.49</td>\n",
       "      <td>7.210000</td>\n",
       "      <td>62.890000</td>\n",
       "      <td>491.35000</td>\n",
       "      <td>552.86</td>\n",
       "      <td>95.05</td>\n",
       "      <td>37.620000</td>\n",
       "      <td>91.04</td>\n",
       "      <td>8.298702</td>\n",
       "    </tr>\n",
       "    <tr>\n",
       "      <th>11</th>\n",
       "      <td>2001</td>\n",
       "      <td>623.04</td>\n",
       "      <td>59.21</td>\n",
       "      <td>7.290000</td>\n",
       "      <td>64.170000</td>\n",
       "      <td>505.36000</td>\n",
       "      <td>568.25</td>\n",
       "      <td>94.91</td>\n",
       "      <td>40.060000</td>\n",
       "      <td>92.97</td>\n",
       "      <td>8.779116</td>\n",
       "    </tr>\n",
       "    <tr>\n",
       "      <th>12</th>\n",
       "      <td>2002</td>\n",
       "      <td>607.05</td>\n",
       "      <td>63.06</td>\n",
       "      <td>7.390000</td>\n",
       "      <td>65.440000</td>\n",
       "      <td>515.58000</td>\n",
       "      <td>577.75</td>\n",
       "      <td>97.74</td>\n",
       "      <td>43.540000</td>\n",
       "      <td>95.96</td>\n",
       "      <td>9.259530</td>\n",
       "    </tr>\n",
       "    <tr>\n",
       "      <th>13</th>\n",
       "      <td>2003</td>\n",
       "      <td>618.55</td>\n",
       "      <td>66.10</td>\n",
       "      <td>8.090000</td>\n",
       "      <td>66.710000</td>\n",
       "      <td>643.89963</td>\n",
       "      <td>601.25</td>\n",
       "      <td>99.53</td>\n",
       "      <td>47.085357</td>\n",
       "      <td>104.04</td>\n",
       "      <td>9.739943</td>\n",
       "    </tr>\n",
       "    <tr>\n",
       "      <th>14</th>\n",
       "      <td>2004</td>\n",
       "      <td>620.63</td>\n",
       "      <td>68.12</td>\n",
       "      <td>10.220357</td>\n",
       "      <td>67.980000</td>\n",
       "      <td>584.73000</td>\n",
       "      <td>651.25</td>\n",
       "      <td>108.05</td>\n",
       "      <td>47.360000</td>\n",
       "      <td>105.05</td>\n",
       "      <td>10.220357</td>\n",
       "    </tr>\n",
       "    <tr>\n",
       "      <th>15</th>\n",
       "      <td>2005</td>\n",
       "      <td>647.22</td>\n",
       "      <td>72.00</td>\n",
       "      <td>9.710000</td>\n",
       "      <td>70.530000</td>\n",
       "      <td>599.57000</td>\n",
       "      <td>667.58</td>\n",
       "      <td>115.40</td>\n",
       "      <td>50.110000</td>\n",
       "      <td>105.99</td>\n",
       "      <td>10.700771</td>\n",
       "    </tr>\n",
       "    <tr>\n",
       "      <th>16</th>\n",
       "      <td>2006</td>\n",
       "      <td>662.25</td>\n",
       "      <td>76.20</td>\n",
       "      <td>11.290000</td>\n",
       "      <td>71.800000</td>\n",
       "      <td>638.85000</td>\n",
       "      <td>708.12</td>\n",
       "      <td>120.65</td>\n",
       "      <td>52.110000</td>\n",
       "      <td>106.26</td>\n",
       "      <td>11.181185</td>\n",
       "    </tr>\n",
       "    <tr>\n",
       "      <th>17</th>\n",
       "      <td>2007</td>\n",
       "      <td>679.25</td>\n",
       "      <td>81.25</td>\n",
       "      <td>12.740000</td>\n",
       "      <td>73.070000</td>\n",
       "      <td>701.88000</td>\n",
       "      <td>793.48</td>\n",
       "      <td>142.98</td>\n",
       "      <td>55.000000</td>\n",
       "      <td>130.07</td>\n",
       "      <td>11.661599</td>\n",
       "    </tr>\n",
       "    <tr>\n",
       "      <th>18</th>\n",
       "      <td>2008</td>\n",
       "      <td>681.39</td>\n",
       "      <td>86.19</td>\n",
       "      <td>12.510000</td>\n",
       "      <td>71.800000</td>\n",
       "      <td>721.88000</td>\n",
       "      <td>862.58</td>\n",
       "      <td>163.21</td>\n",
       "      <td>55.660000</td>\n",
       "      <td>130.34</td>\n",
       "      <td>12.142012</td>\n",
       "    </tr>\n",
       "    <tr>\n",
       "      <th>19</th>\n",
       "      <td>2009</td>\n",
       "      <td>689.66</td>\n",
       "      <td>98.63</td>\n",
       "      <td>13.280000</td>\n",
       "      <td>73.070000</td>\n",
       "      <td>789.51000</td>\n",
       "      <td>737.23</td>\n",
       "      <td>178.71</td>\n",
       "      <td>60.050000</td>\n",
       "      <td>128.53</td>\n",
       "      <td>12.622426</td>\n",
       "    </tr>\n",
       "    <tr>\n",
       "      <th>20</th>\n",
       "      <td>2010</td>\n",
       "      <td>691.44</td>\n",
       "      <td>105.42</td>\n",
       "      <td>13.970000</td>\n",
       "      <td>74.340000</td>\n",
       "      <td>819.68000</td>\n",
       "      <td>935.68</td>\n",
       "      <td>192.92</td>\n",
       "      <td>59.040000</td>\n",
       "      <td>129.54</td>\n",
       "      <td>13.102840</td>\n",
       "    </tr>\n",
       "    <tr>\n",
       "      <th>21</th>\n",
       "      <td>2011</td>\n",
       "      <td>701.81</td>\n",
       "      <td>11.41</td>\n",
       "      <td>14.400000</td>\n",
       "      <td>75.450000</td>\n",
       "      <td>860.23000</td>\n",
       "      <td>1065.68</td>\n",
       "      <td>209.29</td>\n",
       "      <td>58.350000</td>\n",
       "      <td>113.84</td>\n",
       "      <td>13.583254</td>\n",
       "    </tr>\n",
       "    <tr>\n",
       "      <th>22</th>\n",
       "      <td>2012</td>\n",
       "      <td>695.63</td>\n",
       "      <td>117.19</td>\n",
       "      <td>13.510000</td>\n",
       "      <td>76.560000</td>\n",
       "      <td>643.89963</td>\n",
       "      <td>1083.70</td>\n",
       "      <td>221.52</td>\n",
       "      <td>57.070000</td>\n",
       "      <td>126.40</td>\n",
       "      <td>14.063667</td>\n",
       "    </tr>\n",
       "    <tr>\n",
       "      <th>23</th>\n",
       "      <td>2013</td>\n",
       "      <td>698.17</td>\n",
       "      <td>120.95</td>\n",
       "      <td>13.870000</td>\n",
       "      <td>77.670000</td>\n",
       "      <td>1006.04000</td>\n",
       "      <td>1202.22</td>\n",
       "      <td>226.26</td>\n",
       "      <td>56.110000</td>\n",
       "      <td>120.98</td>\n",
       "      <td>14.063667</td>\n",
       "    </tr>\n",
       "    <tr>\n",
       "      <th>24</th>\n",
       "      <td>2014</td>\n",
       "      <td>699.71</td>\n",
       "      <td>125.52</td>\n",
       "      <td>14.210000</td>\n",
       "      <td>78.780000</td>\n",
       "      <td>1123.44000</td>\n",
       "      <td>1183.12</td>\n",
       "      <td>235.75</td>\n",
       "      <td>55.260000</td>\n",
       "      <td>125.33</td>\n",
       "      <td>14.544081</td>\n",
       "    </tr>\n",
       "    <tr>\n",
       "      <th>25</th>\n",
       "      <td>2015</td>\n",
       "      <td>700.01</td>\n",
       "      <td>130.19</td>\n",
       "      <td>15.240000</td>\n",
       "      <td>79.890000</td>\n",
       "      <td>1103.23000</td>\n",
       "      <td>1178.79</td>\n",
       "      <td>252.25</td>\n",
       "      <td>55.280000</td>\n",
       "      <td>125.77</td>\n",
       "      <td>15.024495</td>\n",
       "    </tr>\n",
       "    <tr>\n",
       "      <th>26</th>\n",
       "      <td>2016</td>\n",
       "      <td>703.63</td>\n",
       "      <td>130.61</td>\n",
       "      <td>16.370000</td>\n",
       "      <td>80.980000</td>\n",
       "      <td>1097.81000</td>\n",
       "      <td>1239.84</td>\n",
       "      <td>269.40</td>\n",
       "      <td>54.940000</td>\n",
       "      <td>128.45</td>\n",
       "      <td>15.504909</td>\n",
       "    </tr>\n",
       "    <tr>\n",
       "      <th>27</th>\n",
       "      <td>2017</td>\n",
       "      <td>709.50</td>\n",
       "      <td>130.52</td>\n",
       "      <td>17.110000</td>\n",
       "      <td>82.070000</td>\n",
       "      <td>1157.77000</td>\n",
       "      <td>1324.51</td>\n",
       "      <td>291.29</td>\n",
       "      <td>54.410000</td>\n",
       "      <td>131.14</td>\n",
       "      <td>15.985323</td>\n",
       "    </tr>\n",
       "    <tr>\n",
       "      <th>28</th>\n",
       "      <td>2018</td>\n",
       "      <td>718.70</td>\n",
       "      <td>148.54</td>\n",
       "      <td>18.530000</td>\n",
       "      <td>83.170000</td>\n",
       "      <td>1241.34000</td>\n",
       "      <td>1355.55</td>\n",
       "      <td>305.33</td>\n",
       "      <td>55.260000</td>\n",
       "      <td>133.28</td>\n",
       "      <td>16.465736</td>\n",
       "    </tr>\n",
       "  </tbody>\n",
       "</table>\n",
       "</div>"
      ],
      "text/plain": [
       "    Year  Agriculture (MTCO2e)  Industrial process(MTCO2e)  Bunker(MTCO2e)  \\\n",
       "0   1990                566.55                       26.50        5.120000   \n",
       "1   1991                573.97                       29.00        4.870000   \n",
       "2   1992                580.41                       30.06        4.950000   \n",
       "3   1993                587.12                       31.06        5.400000   \n",
       "4   1994                595.12                       34.05        5.840000   \n",
       "5   1995                599.54                       37.25        6.360000   \n",
       "6   1996                607.06                       41.94        6.630000   \n",
       "7   1997                612.43                       46.45        6.570000   \n",
       "8   1998                619.68                       49.88        6.680000   \n",
       "9   1999                623.28                       55.60        7.030000   \n",
       "10  2000                617.94                       57.49        7.210000   \n",
       "11  2001                623.04                       59.21        7.290000   \n",
       "12  2002                607.05                       63.06        7.390000   \n",
       "13  2003                618.55                       66.10        8.090000   \n",
       "14  2004                620.63                       68.12       10.220357   \n",
       "15  2005                647.22                       72.00        9.710000   \n",
       "16  2006                662.25                       76.20       11.290000   \n",
       "17  2007                679.25                       81.25       12.740000   \n",
       "18  2008                681.39                       86.19       12.510000   \n",
       "19  2009                689.66                       98.63       13.280000   \n",
       "20  2010                691.44                      105.42       13.970000   \n",
       "21  2011                701.81                       11.41       14.400000   \n",
       "22  2012                695.63                      117.19       13.510000   \n",
       "23  2013                698.17                      120.95       13.870000   \n",
       "24  2014                699.71                      125.52       14.210000   \n",
       "25  2015                700.01                      130.19       15.240000   \n",
       "26  2016                703.63                      130.61       16.370000   \n",
       "27  2017                709.50                      130.52       17.110000   \n",
       "28  2018                718.70                      148.54       18.530000   \n",
       "\n",
       "    Waste(MTCO2e)  Elecricity(MTCO2e)  Manufacture and cunstruction(MTCO2e)  \\\n",
       "0       24.540000           231.23000                                256.46   \n",
       "1       25.790000           258.36000                                284.16   \n",
       "2       25.860000           278.36000                                304.23   \n",
       "3       26.500000           306.80000                                333.33   \n",
       "4       62.277143           319.80000                                347.21   \n",
       "5       32.600000           364.89000                                397.58   \n",
       "6       44.390000           388.13000                                737.23   \n",
       "7       50.150000           402.10000                                446.25   \n",
       "8       55.880000           418.14000                                468.25   \n",
       "9       61.680000           459.23000                                515.53   \n",
       "10      62.890000           491.35000                                552.86   \n",
       "11      64.170000           505.36000                                568.25   \n",
       "12      65.440000           515.58000                                577.75   \n",
       "13      66.710000           643.89963                                601.25   \n",
       "14      67.980000           584.73000                                651.25   \n",
       "15      70.530000           599.57000                                667.58   \n",
       "16      71.800000           638.85000                                708.12   \n",
       "17      73.070000           701.88000                                793.48   \n",
       "18      71.800000           721.88000                                862.58   \n",
       "19      73.070000           789.51000                                737.23   \n",
       "20      74.340000           819.68000                                935.68   \n",
       "21      75.450000           860.23000                               1065.68   \n",
       "22      76.560000           643.89963                               1083.70   \n",
       "23      77.670000          1006.04000                               1202.22   \n",
       "24      78.780000          1123.44000                               1183.12   \n",
       "25      79.890000          1103.23000                               1178.79   \n",
       "26      80.980000          1097.81000                               1239.84   \n",
       "27      82.070000          1157.77000                               1324.51   \n",
       "28      83.170000          1241.34000                               1355.55   \n",
       "\n",
       "    Transportation(MTCO2e)  Fugate emission(MTCO2e)  Other(MTCO2e)  \\\n",
       "0                    64.35                36.520000          70.59   \n",
       "1                    66.35                39.080000          75.55   \n",
       "2                    68.69                38.630000          76.44   \n",
       "3                    68.99                35.060000          76.09   \n",
       "4                    70.81                35.470000          81.45   \n",
       "5                    78.29                37.000000          84.92   \n",
       "6                    83.78                36.490000          88.80   \n",
       "7                    85.50                36.970000          93.64   \n",
       "8                    88.78                37.760000          84.94   \n",
       "9                    97.81                38.180000          97.45   \n",
       "10                   95.05                37.620000          91.04   \n",
       "11                   94.91                40.060000          92.97   \n",
       "12                   97.74                43.540000          95.96   \n",
       "13                   99.53                47.085357         104.04   \n",
       "14                  108.05                47.360000         105.05   \n",
       "15                  115.40                50.110000         105.99   \n",
       "16                  120.65                52.110000         106.26   \n",
       "17                  142.98                55.000000         130.07   \n",
       "18                  163.21                55.660000         130.34   \n",
       "19                  178.71                60.050000         128.53   \n",
       "20                  192.92                59.040000         129.54   \n",
       "21                  209.29                58.350000         113.84   \n",
       "22                  221.52                57.070000         126.40   \n",
       "23                  226.26                56.110000         120.98   \n",
       "24                  235.75                55.260000         125.33   \n",
       "25                  252.25                55.280000         125.77   \n",
       "26                  269.40                54.940000         128.45   \n",
       "27                  291.29                54.410000         131.14   \n",
       "28                  305.33                55.260000         133.28   \n",
       "\n",
       "    y_pre Bunker  \n",
       "0       3.494564  \n",
       "1       3.974978  \n",
       "2       4.455392  \n",
       "3       4.935805  \n",
       "4       5.416219  \n",
       "5       5.896633  \n",
       "6       6.377047  \n",
       "7       6.857461  \n",
       "8       7.337874  \n",
       "9       7.818288  \n",
       "10      8.298702  \n",
       "11      8.779116  \n",
       "12      9.259530  \n",
       "13      9.739943  \n",
       "14     10.220357  \n",
       "15     10.700771  \n",
       "16     11.181185  \n",
       "17     11.661599  \n",
       "18     12.142012  \n",
       "19     12.622426  \n",
       "20     13.102840  \n",
       "21     13.583254  \n",
       "22     14.063667  \n",
       "23     14.063667  \n",
       "24     14.544081  \n",
       "25     15.024495  \n",
       "26     15.504909  \n",
       "27     15.985323  \n",
       "28     16.465736  "
      ]
     },
     "execution_count": 57,
     "metadata": {},
     "output_type": "execute_result"
    }
   ],
   "source": [
    "df"
   ]
  },
  {
   "cell_type": "code",
   "execution_count": 58,
   "id": "6112b83c",
   "metadata": {},
   "outputs": [
    {
     "data": {
      "text/plain": [
       "0     1.625436e+00\n",
       "1     8.950222e-01\n",
       "2     4.946084e-01\n",
       "3     4.641946e-01\n",
       "4     4.237808e-01\n",
       "5     4.633670e-01\n",
       "6     2.529532e-01\n",
       "7    -2.874606e-01\n",
       "8    -6.578744e-01\n",
       "9    -7.882882e-01\n",
       "10   -1.088702e+00\n",
       "11   -1.489116e+00\n",
       "12   -1.869530e+00\n",
       "13   -1.649943e+00\n",
       "14    4.796163e-14\n",
       "15   -9.907709e-01\n",
       "16    1.088153e-01\n",
       "17    1.078401e+00\n",
       "18    3.679877e-01\n",
       "19    6.575739e-01\n",
       "20    8.671601e-01\n",
       "21    8.167463e-01\n",
       "22   -5.536675e-01\n",
       "23   -1.936675e-01\n",
       "24   -3.340813e-01\n",
       "25    2.155049e-01\n",
       "26    8.650911e-01\n",
       "27    1.124677e+00\n",
       "28    2.064264e+00\n",
       "Name: residuals, dtype: float64"
      ]
     },
     "execution_count": 58,
     "metadata": {},
     "output_type": "execute_result"
    }
   ],
   "source": [
    "df['residuals']=df['Bunker(MTCO2e)']-df['y_pre Bunker']\n",
    "df['residuals']"
   ]
  },
  {
   "cell_type": "code",
   "execution_count": 59,
   "id": "280ba4ef",
   "metadata": {},
   "outputs": [
    {
     "name": "stdout",
     "output_type": "stream",
     "text": [
      "26.038377669275032\n"
     ]
    }
   ],
   "source": [
    "df['residuals_squared'] = df['residuals'] ** 2\n",
    "ssres = df['residuals_squared'].sum()\n",
    "print(ssres)"
   ]
  },
  {
   "cell_type": "code",
   "execution_count": 60,
   "id": "79bc721e",
   "metadata": {},
   "outputs": [
    {
     "data": {
      "text/plain": [
       "0    -1.869530e+00\n",
       "1    -1.649943e+00\n",
       "2    -1.489116e+00\n",
       "3    -1.088702e+00\n",
       "4    -9.907709e-01\n",
       "5    -7.882882e-01\n",
       "6    -6.578744e-01\n",
       "7    -5.536675e-01\n",
       "8    -3.340813e-01\n",
       "9    -2.874606e-01\n",
       "10   -1.936675e-01\n",
       "11    4.796163e-14\n",
       "12    1.088153e-01\n",
       "13    2.155049e-01\n",
       "14    2.529532e-01\n",
       "15    3.679877e-01\n",
       "16    4.237808e-01\n",
       "17    4.633670e-01\n",
       "18    4.641946e-01\n",
       "19    4.946084e-01\n",
       "20    6.575739e-01\n",
       "21    8.167463e-01\n",
       "22    8.650911e-01\n",
       "23    8.671601e-01\n",
       "24    8.950222e-01\n",
       "25    1.078401e+00\n",
       "26    1.124677e+00\n",
       "27    1.625436e+00\n",
       "28    2.064264e+00\n",
       "Name: residuals, dtype: float64"
      ]
     },
     "execution_count": 60,
     "metadata": {},
     "output_type": "execute_result"
    }
   ],
   "source": [
    "df['residuals'].mode()"
   ]
  },
  {
   "cell_type": "code",
   "execution_count": 61,
   "id": "f44f29d5",
   "metadata": {},
   "outputs": [
    {
     "name": "stdout",
     "output_type": "stream",
     "text": [
      "492.3466964285715\n"
     ]
    }
   ],
   "source": [
    "y_mean = df['Bunker(MTCO2e)'].mean()\n",
    "\n",
    "# create a column for the residuals\n",
    "df['residuals of Mean'] = df['Bunker(MTCO2e)'] - y_mean\n",
    "\n",
    "# square the residuals\n",
    "df['residuals_square'] = df['residuals of Mean'] ** 2\n",
    "\n",
    "# calculate the total sum of squares\n",
    "sstot = df['residuals_square'].sum()\n",
    "print(sstot)"
   ]
  },
  {
   "cell_type": "code",
   "execution_count": 62,
   "id": "105ab492",
   "metadata": {},
   "outputs": [
    {
     "data": {
      "text/plain": [
       "0.9471137353857464"
      ]
     },
     "execution_count": 62,
     "metadata": {},
     "output_type": "execute_result"
    }
   ],
   "source": [
    "R_square=1-ssres/sstot\n",
    "R_square"
   ]
  },
  {
   "cell_type": "code",
   "execution_count": null,
   "id": "33e1c083",
   "metadata": {},
   "outputs": [],
   "source": []
  },
  {
   "cell_type": "code",
   "execution_count": null,
   "id": "5b03bf3e",
   "metadata": {},
   "outputs": [],
   "source": []
  },
  {
   "cell_type": "code",
   "execution_count": null,
   "id": "6388e72d",
   "metadata": {
    "scrolled": true
   },
   "outputs": [],
   "source": []
  },
  {
   "cell_type": "code",
   "execution_count": null,
   "id": "0d1e5ad6",
   "metadata": {},
   "outputs": [],
   "source": []
  },
  {
   "cell_type": "code",
   "execution_count": 63,
   "id": "9a422143",
   "metadata": {},
   "outputs": [
    {
     "name": "stdout",
     "output_type": "stream",
     "text": [
      "[-1.23670695 -1.29926044 -1.28092581 -1.17189369 -1.06530903 -0.93910977\n",
      " -0.87419096 -0.89016738 -0.86446915 -0.77993336 -0.73707128 -0.71872382\n",
      " -0.6954724  -0.52511806 -0.00407051 -0.13045183  0.25568297  0.60995715\n",
      "  0.55232137  0.73987995  0.90782917  1.01203106  0.79256006  0.87959866\n",
      "  0.96173601  1.21308001  1.48895575  1.6692011   2.01621337]\n"
     ]
    }
   ],
   "source": [
    "import statsmodels.api as sm\n",
    "x = sm.add_constant(df['Year'])\n",
    "model = sm.OLS(df['Bunker(MTCO2e)'], df['Year']).fit() \n",
    "influence = model.get_influence()\n",
    "\n",
    "#obtain standardized residuals\n",
    "standardized_residuals = influence.resid_studentized_internal\n",
    "\n",
    "#display standardized residuals\n",
    "print(standardized_residuals)"
   ]
  },
  {
   "cell_type": "code",
   "execution_count": 64,
   "id": "ba32196b",
   "metadata": {},
   "outputs": [
    {
     "data": {
      "image/png": "[encoded data removed]",
      "text/plain": [
       "<Figure size 360x288 with 1 Axes>"
      ]
     },
     "metadata": {
      "needs_background": "light"
     },
     "output_type": "display_data"
    }
   ],
   "source": [
    "import matplotlib.pyplot as plt\n",
    "plt.figure(figsize=(5,4))\n",
    "plt.scatter(df['y_pre Bunker'],df['residuals'],color='purple')\n",
    "plt.xlabel('predicted value')\n",
    "plt.ylabel('Standardized Residuals')\n",
    "plt.title('Residual')\n",
    "plt.axhline(y=0, color='r', linestyle='--', linewidth=1)\n",
    "plt.show()"
   ]
  },
  {
   "cell_type": "code",
   "execution_count": 65,
   "id": "7d3b4e44",
   "metadata": {},
   "outputs": [
    {
     "data": {
      "image/png": "[encoded data removed]",
      "text/plain": [
       "<Figure size 504x288 with 1 Axes>"
      ]
     },
     "metadata": {
      "needs_background": "light"
     },
     "output_type": "display_data"
    }
   ],
   "source": [
    "import matplotlib.pyplot as plt\n",
    "from sklearn.linear_model import LinearRegression\n",
    "\n",
    "plt.figure(figsize=(7,4))\n",
    "plt.plot(df[\"Year\"],df[\"Bunker(MTCO2e)\"], color='darkblue', linestyle='solid', linewidth=1, marker='s', markersize=3, label='Actual')\n",
    "\n",
    "\n",
    "l=[pre1,pre2,pre3,pre4,pre5,pre6,pre7,pre8,pre9,pre10,pre11,pre12,pre13,pre14,pre15,pre16,pre17,pre18,pre19,pre20,pre21,pre22,pre23,pre24,pre25,pre26,pre27,pre28,pre29,pre30,pre_1,pre_2,pre_3,pre_4,pre_5,pre_6]\n",
    "ye=[1990,1991,1992,1993,1994,1995,1996,1997,1998,1999,2000,2001,2002,2003,2004,2005,2006,2007,2008,2009,2010,2011,2012,2013,2014,2015,2016,2017,2018,2019,2020,2021,2022,2023,2024,2025]\n",
    "\n",
    "plt.plot(ye,l,color='red', linestyle='dashed', linewidth=1, marker='o', markersize=3, label='PREDICTED')\n",
    "\n",
    "plt.xlabel('Year',fontsize=\"15\")\n",
    "plt.ylabel('Bunker(MTCO2e) per Year',fontsize=\"14\")\n",
    "plt.title('Prediction Graph b/w year and Bunker(MTCO2e)')\n",
    "plt.show()\n",
    "\n"
   ]
  },
  {
   "cell_type": "code",
   "execution_count": 66,
   "id": "e39188a3",
   "metadata": {},
   "outputs": [
    {
     "data": {
      "text/html": [
       "<div>\n",
       "<style scoped>\n",
       "    .dataframe tbody tr th:only-of-type {\n",
       "        vertical-align: middle;\n",
       "    }\n",
       "\n",
       "    .dataframe tbody tr th {\n",
       "        vertical-align: top;\n",
       "    }\n",
       "\n",
       "    .dataframe thead th {\n",
       "        text-align: right;\n",
       "    }\n",
       "</style>\n",
       "<table border=\"1\" class=\"dataframe\">\n",
       "  <thead>\n",
       "    <tr style=\"text-align: right;\">\n",
       "      <th></th>\n",
       "      <th>Year</th>\n",
       "      <th>Pre_Bunker</th>\n",
       "    </tr>\n",
       "  </thead>\n",
       "  <tbody>\n",
       "    <tr>\n",
       "      <th>0</th>\n",
       "      <td>2019</td>\n",
       "      <td>17.426564</td>\n",
       "    </tr>\n",
       "    <tr>\n",
       "      <th>1</th>\n",
       "      <td>2020</td>\n",
       "      <td>17.906978</td>\n",
       "    </tr>\n",
       "    <tr>\n",
       "      <th>2</th>\n",
       "      <td>2021</td>\n",
       "      <td>18.387392</td>\n",
       "    </tr>\n",
       "    <tr>\n",
       "      <th>3</th>\n",
       "      <td>2022</td>\n",
       "      <td>18.867805</td>\n",
       "    </tr>\n",
       "    <tr>\n",
       "      <th>4</th>\n",
       "      <td>2023</td>\n",
       "      <td>19.348219</td>\n",
       "    </tr>\n",
       "    <tr>\n",
       "      <th>5</th>\n",
       "      <td>2024</td>\n",
       "      <td>19.828633</td>\n",
       "    </tr>\n",
       "    <tr>\n",
       "      <th>6</th>\n",
       "      <td>2025</td>\n",
       "      <td>20.309047</td>\n",
       "    </tr>\n",
       "  </tbody>\n",
       "</table>\n",
       "</div>"
      ],
      "text/plain": [
       "   Year  Pre_Bunker\n",
       "0  2019   17.426564\n",
       "1  2020   17.906978\n",
       "2  2021   18.387392\n",
       "3  2022   18.867805\n",
       "4  2023   19.348219\n",
       "5  2024   19.828633\n",
       "6  2025   20.309047"
      ]
     },
     "execution_count": 66,
     "metadata": {},
     "output_type": "execute_result"
    }
   ],
   "source": [
    "p={'Year':[2019,2020,2021,2022,2023,2024,2025],'Pre_Bunker':[17.426564039407936,17.906977832511302,18.38739162561467,18.867805418718035,19.348219211821515,19.828633004924882,20.30904679802825]}\n",
    "Pre_Bunker=pd.DataFrame(p)\n",
    "Pre_Bunker"
   ]
  },
  {
   "cell_type": "code",
   "execution_count": null,
   "id": "ca8ccf9c",
   "metadata": {},
   "outputs": [],
   "source": []
  },
  {
   "cell_type": "code",
   "execution_count": 67,
   "id": "2e1de2a5",
   "metadata": {},
   "outputs": [
    {
     "data": {
      "text/plain": [
       "-0.003925095611739225"
      ]
     },
     "execution_count": 67,
     "metadata": {},
     "output_type": "execute_result"
    }
   ],
   "source": [
    "SSres=standardized_residuals.mean()\n",
    "SSres"
   ]
  },
  {
   "cell_type": "code",
   "execution_count": 68,
   "id": "c984c6d0",
   "metadata": {},
   "outputs": [
    {
     "data": {
      "text/plain": [
       "2.0162133745143582"
      ]
     },
     "execution_count": 68,
     "metadata": {},
     "output_type": "execute_result"
    }
   ],
   "source": [
    "max(standardized_residuals)"
   ]
  },
  {
   "cell_type": "code",
   "execution_count": null,
   "id": "8effae33",
   "metadata": {},
   "outputs": [],
   "source": []
  },
  {
   "cell_type": "code",
   "execution_count": null,
   "id": "4a8db286",
   "metadata": {},
   "outputs": [],
   "source": []
  },
  {
   "cell_type": "markdown",
   "id": "5d69c1a4",
   "metadata": {},
   "source": [
    "RANKING"
   ]
  },
  {
   "cell_type": "markdown",
   "id": "a63033c7",
   "metadata": {},
   "source": [
    "PROBLEM STATEMENT 2"
   ]
  },
  {
   "cell_type": "code",
   "execution_count": 69,
   "id": "42b8b0f7",
   "metadata": {},
   "outputs": [],
   "source": [
    "#Problem2nd: To determine the rank of all the Sectors, based on the Greenhouse gases from 1990 to 2018 "
   ]
  },
  {
   "cell_type": "code",
   "execution_count": 70,
   "id": "2063d1fa",
   "metadata": {},
   "outputs": [
    {
     "data": {
      "text/html": [
       "<div>\n",
       "<style scoped>\n",
       "    .dataframe tbody tr th:only-of-type {\n",
       "        vertical-align: middle;\n",
       "    }\n",
       "\n",
       "    .dataframe tbody tr th {\n",
       "        vertical-align: top;\n",
       "    }\n",
       "\n",
       "    .dataframe thead th {\n",
       "        text-align: right;\n",
       "    }\n",
       "</style>\n",
       "<table border=\"1\" class=\"dataframe\">\n",
       "  <thead>\n",
       "    <tr style=\"text-align: right;\">\n",
       "      <th></th>\n",
       "      <th>Year</th>\n",
       "      <th>Agriculture (MTCO2e)</th>\n",
       "      <th>Industrial process(MTCO2e)</th>\n",
       "      <th>Bunker(MTCO2e)</th>\n",
       "      <th>Waste(MTCO2e)</th>\n",
       "      <th>Elecricity(MTCO2e)</th>\n",
       "      <th>Manufacture and cunstruction(MTCO2e)</th>\n",
       "      <th>Transportation(MTCO2e)</th>\n",
       "      <th>Fugate emission(MTCO2e)</th>\n",
       "      <th>Other(MTCO2e)</th>\n",
       "      <th>y_pre Bunker</th>\n",
       "      <th>residuals</th>\n",
       "      <th>residuals_squared</th>\n",
       "      <th>residuals of Mean</th>\n",
       "      <th>residuals_square</th>\n",
       "    </tr>\n",
       "  </thead>\n",
       "  <tbody>\n",
       "    <tr>\n",
       "      <th>count</th>\n",
       "      <td>29.000000</td>\n",
       "      <td>29.000000</td>\n",
       "      <td>29.000000</td>\n",
       "      <td>29.000000</td>\n",
       "      <td>29.000000</td>\n",
       "      <td>29.000000</td>\n",
       "      <td>29.000000</td>\n",
       "      <td>29.000000</td>\n",
       "      <td>29.000000</td>\n",
       "      <td>29.000000</td>\n",
       "      <td>29.000000</td>\n",
       "      <td>29.000000</td>\n",
       "      <td>2.900000e+01</td>\n",
       "      <td>29.000000</td>\n",
       "      <td>2.900000e+01</td>\n",
       "    </tr>\n",
       "    <tr>\n",
       "      <th>mean</th>\n",
       "      <td>2004.000000</td>\n",
       "      <td>645.887586</td>\n",
       "      <td>73.461724</td>\n",
       "      <td>10.220357</td>\n",
       "      <td>62.277143</td>\n",
       "      <td>643.899630</td>\n",
       "      <td>737.230000</td>\n",
       "      <td>144.606552</td>\n",
       "      <td>47.085357</td>\n",
       "      <td>105.339655</td>\n",
       "      <td>10.120961</td>\n",
       "      <td>0.099396</td>\n",
       "      <td>8.978751e-01</td>\n",
       "      <td>0.000000</td>\n",
       "      <td>1.697747e+01</td>\n",
       "    </tr>\n",
       "    <tr>\n",
       "      <th>std</th>\n",
       "      <td>8.514693</td>\n",
       "      <td>48.341124</td>\n",
       "      <td>38.714722</td>\n",
       "      <td>4.193305</td>\n",
       "      <td>18.727206</td>\n",
       "      <td>300.589955</td>\n",
       "      <td>341.021035</td>\n",
       "      <td>76.001892</td>\n",
       "      <td>8.997268</td>\n",
       "      <td>20.726629</td>\n",
       "      <td>3.954053</td>\n",
       "      <td>0.959015</td>\n",
       "      <td>1.116765e+00</td>\n",
       "      <td>4.193305</td>\n",
       "      <td>1.485384e+01</td>\n",
       "    </tr>\n",
       "    <tr>\n",
       "      <th>min</th>\n",
       "      <td>1990.000000</td>\n",
       "      <td>566.550000</td>\n",
       "      <td>11.410000</td>\n",
       "      <td>4.870000</td>\n",
       "      <td>24.540000</td>\n",
       "      <td>231.230000</td>\n",
       "      <td>256.460000</td>\n",
       "      <td>64.350000</td>\n",
       "      <td>35.060000</td>\n",
       "      <td>70.590000</td>\n",
       "      <td>3.494564</td>\n",
       "      <td>-1.869530</td>\n",
       "      <td>2.300318e-27</td>\n",
       "      <td>-5.350357</td>\n",
       "      <td>3.155444e-30</td>\n",
       "    </tr>\n",
       "    <tr>\n",
       "      <th>25%</th>\n",
       "      <td>1997.000000</td>\n",
       "      <td>607.060000</td>\n",
       "      <td>41.940000</td>\n",
       "      <td>6.630000</td>\n",
       "      <td>55.880000</td>\n",
       "      <td>402.100000</td>\n",
       "      <td>468.250000</td>\n",
       "      <td>85.500000</td>\n",
       "      <td>37.760000</td>\n",
       "      <td>88.800000</td>\n",
       "      <td>6.857461</td>\n",
       "      <td>-0.553667</td>\n",
       "      <td>1.354149e-01</td>\n",
       "      <td>-3.590357</td>\n",
       "      <td>8.586993e+00</td>\n",
       "    </tr>\n",
       "    <tr>\n",
       "      <th>50%</th>\n",
       "      <td>2004.000000</td>\n",
       "      <td>623.280000</td>\n",
       "      <td>66.100000</td>\n",
       "      <td>9.710000</td>\n",
       "      <td>67.980000</td>\n",
       "      <td>599.570000</td>\n",
       "      <td>667.580000</td>\n",
       "      <td>108.050000</td>\n",
       "      <td>47.360000</td>\n",
       "      <td>105.050000</td>\n",
       "      <td>10.220357</td>\n",
       "      <td>0.252953</td>\n",
       "      <td>4.327987e-01</td>\n",
       "      <td>-0.510357</td>\n",
       "      <td>1.331989e+01</td>\n",
       "    </tr>\n",
       "    <tr>\n",
       "      <th>75%</th>\n",
       "      <td>2011.000000</td>\n",
       "      <td>695.630000</td>\n",
       "      <td>105.420000</td>\n",
       "      <td>13.870000</td>\n",
       "      <td>75.450000</td>\n",
       "      <td>819.680000</td>\n",
       "      <td>1065.680000</td>\n",
       "      <td>209.290000</td>\n",
       "      <td>55.260000</td>\n",
       "      <td>126.400000</td>\n",
       "      <td>13.583254</td>\n",
       "      <td>0.816746</td>\n",
       "      <td>1.162950e+00</td>\n",
       "      <td>3.649643</td>\n",
       "      <td>2.323584e+01</td>\n",
       "    </tr>\n",
       "    <tr>\n",
       "      <th>max</th>\n",
       "      <td>2018.000000</td>\n",
       "      <td>718.700000</td>\n",
       "      <td>148.540000</td>\n",
       "      <td>18.530000</td>\n",
       "      <td>83.170000</td>\n",
       "      <td>1241.340000</td>\n",
       "      <td>1355.550000</td>\n",
       "      <td>305.330000</td>\n",
       "      <td>60.050000</td>\n",
       "      <td>133.280000</td>\n",
       "      <td>16.465736</td>\n",
       "      <td>2.064264</td>\n",
       "      <td>4.261184e+00</td>\n",
       "      <td>8.309643</td>\n",
       "      <td>6.905016e+01</td>\n",
       "    </tr>\n",
       "  </tbody>\n",
       "</table>\n",
       "</div>"
      ],
      "text/plain": [
       "              Year  Agriculture (MTCO2e)  Industrial process(MTCO2e)  \\\n",
       "count    29.000000             29.000000                   29.000000   \n",
       "mean   2004.000000            645.887586                   73.461724   \n",
       "std       8.514693             48.341124                   38.714722   \n",
       "min    1990.000000            566.550000                   11.410000   \n",
       "25%    1997.000000            607.060000                   41.940000   \n",
       "50%    2004.000000            623.280000                   66.100000   \n",
       "75%    2011.000000            695.630000                  105.420000   \n",
       "max    2018.000000            718.700000                  148.540000   \n",
       "\n",
       "       Bunker(MTCO2e)  Waste(MTCO2e)  Elecricity(MTCO2e)  \\\n",
       "count       29.000000      29.000000           29.000000   \n",
       "mean        10.220357      62.277143          643.899630   \n",
       "std          4.193305      18.727206          300.589955   \n",
       "min          4.870000      24.540000          231.230000   \n",
       "25%          6.630000      55.880000          402.100000   \n",
       "50%          9.710000      67.980000          599.570000   \n",
       "75%         13.870000      75.450000          819.680000   \n",
       "max         18.530000      83.170000         1241.340000   \n",
       "\n",
       "       Manufacture and cunstruction(MTCO2e)  Transportation(MTCO2e)  \\\n",
       "count                             29.000000               29.000000   \n",
       "mean                             737.230000              144.606552   \n",
       "std                              341.021035               76.001892   \n",
       "min                              256.460000               64.350000   \n",
       "25%                              468.250000               85.500000   \n",
       "50%                              667.580000              108.050000   \n",
       "75%                             1065.680000              209.290000   \n",
       "max                             1355.550000              305.330000   \n",
       "\n",
       "       Fugate emission(MTCO2e)  Other(MTCO2e)  y_pre Bunker  residuals  \\\n",
       "count                29.000000      29.000000     29.000000  29.000000   \n",
       "mean                 47.085357     105.339655     10.120961   0.099396   \n",
       "std                   8.997268      20.726629      3.954053   0.959015   \n",
       "min                  35.060000      70.590000      3.494564  -1.869530   \n",
       "25%                  37.760000      88.800000      6.857461  -0.553667   \n",
       "50%                  47.360000     105.050000     10.220357   0.252953   \n",
       "75%                  55.260000     126.400000     13.583254   0.816746   \n",
       "max                  60.050000     133.280000     16.465736   2.064264   \n",
       "\n",
       "       residuals_squared  residuals of Mean  residuals_square  \n",
       "count       2.900000e+01          29.000000      2.900000e+01  \n",
       "mean        8.978751e-01           0.000000      1.697747e+01  \n",
       "std         1.116765e+00           4.193305      1.485384e+01  \n",
       "min         2.300318e-27          -5.350357      3.155444e-30  \n",
       "25%         1.354149e-01          -3.590357      8.586993e+00  \n",
       "50%         4.327987e-01          -0.510357      1.331989e+01  \n",
       "75%         1.162950e+00           3.649643      2.323584e+01  \n",
       "max         4.261184e+00           8.309643      6.905016e+01  "
      ]
     },
     "execution_count": 70,
     "metadata": {},
     "output_type": "execute_result"
    }
   ],
   "source": [
    "df.describe()"
   ]
  },
  {
   "cell_type": "code",
   "execution_count": 71,
   "id": "4dab5eb0",
   "metadata": {},
   "outputs": [],
   "source": [
    "sectors=['Agriculture (MTCO2e)','Industrial process(MTCO2e)','Elecricity(MTCO2e)','Bunker(MTCO2e)','Waste(MTCO2e)','']"
   ]
  },
  {
   "cell_type": "code",
   "execution_count": null,
   "id": "264e3ff8",
   "metadata": {},
   "outputs": [],
   "source": []
  },
  {
   "cell_type": "code",
   "execution_count": 72,
   "id": "d39cee4d",
   "metadata": {},
   "outputs": [
    {
     "data": {
      "text/plain": [
       "['Agriculture (MTCO2e)',\n",
       " 'Industrial process(MTCO2e)',\n",
       " 'Elecricity(MTCO2e)',\n",
       " 'Bunker(MTCO2e)',\n",
       " 'Waste(MTCO2e)',\n",
       " '']"
      ]
     },
     "execution_count": 72,
     "metadata": {},
     "output_type": "execute_result"
    }
   ],
   "source": [
    "sectors"
   ]
  },
  {
   "cell_type": "code",
   "execution_count": null,
   "id": "2d6e1960",
   "metadata": {},
   "outputs": [],
   "source": []
  },
  {
   "cell_type": "code",
   "execution_count": null,
   "id": "c05631e0",
   "metadata": {},
   "outputs": [],
   "source": []
  },
  {
   "cell_type": "code",
   "execution_count": null,
   "id": "7fc41ec3",
   "metadata": {},
   "outputs": [],
   "source": []
  },
  {
   "cell_type": "code",
   "execution_count": null,
   "id": "18a4b9b7",
   "metadata": {},
   "outputs": [],
   "source": []
  },
  {
   "cell_type": "code",
   "execution_count": null,
   "id": "a07f1506",
   "metadata": {},
   "outputs": [],
   "source": []
  },
  {
   "cell_type": "code",
   "execution_count": 73,
   "id": "79858b3b",
   "metadata": {},
   "outputs": [],
   "source": [
    "ranking_matrix=pd.read_csv('C:\\\\Users\\\\91820\\\\Documents\\\\green house matrix.csv')"
   ]
  },
  {
   "cell_type": "code",
   "execution_count": 74,
   "id": "a2ffa4be",
   "metadata": {},
   "outputs": [
    {
     "data": {
      "text/html": [
       "<div>\n",
       "<style scoped>\n",
       "    .dataframe tbody tr th:only-of-type {\n",
       "        vertical-align: middle;\n",
       "    }\n",
       "\n",
       "    .dataframe tbody tr th {\n",
       "        vertical-align: top;\n",
       "    }\n",
       "\n",
       "    .dataframe thead th {\n",
       "        text-align: right;\n",
       "    }\n",
       "</style>\n",
       "<table border=\"1\" class=\"dataframe\">\n",
       "  <thead>\n",
       "    <tr style=\"text-align: right;\">\n",
       "      <th></th>\n",
       "      <th>sector</th>\n",
       "      <th>Agriculture</th>\n",
       "      <th>Industrial Process</th>\n",
       "      <th>Bunker fuel</th>\n",
       "      <th>Electricity</th>\n",
       "      <th>Bunker fuel.1</th>\n",
       "      <th>manufacture and construction</th>\n",
       "      <th>transportation</th>\n",
       "      <th>Fugative emission</th>\n",
       "      <th>Other</th>\n",
       "    </tr>\n",
       "  </thead>\n",
       "  <tbody>\n",
       "    <tr>\n",
       "      <th>0</th>\n",
       "      <td>Agriculture</td>\n",
       "      <td>0</td>\n",
       "      <td>2</td>\n",
       "      <td>2</td>\n",
       "      <td>2</td>\n",
       "      <td>1</td>\n",
       "      <td>1</td>\n",
       "      <td>1</td>\n",
       "      <td>2</td>\n",
       "      <td>1</td>\n",
       "    </tr>\n",
       "    <tr>\n",
       "      <th>1</th>\n",
       "      <td>Industrial Process</td>\n",
       "      <td>1</td>\n",
       "      <td>0</td>\n",
       "      <td>2</td>\n",
       "      <td>2</td>\n",
       "      <td>1</td>\n",
       "      <td>1</td>\n",
       "      <td>1</td>\n",
       "      <td>2</td>\n",
       "      <td>1</td>\n",
       "    </tr>\n",
       "    <tr>\n",
       "      <th>2</th>\n",
       "      <td>Bunker fuel</td>\n",
       "      <td>1</td>\n",
       "      <td>1</td>\n",
       "      <td>0</td>\n",
       "      <td>1</td>\n",
       "      <td>1</td>\n",
       "      <td>1</td>\n",
       "      <td>1</td>\n",
       "      <td>1</td>\n",
       "      <td>1</td>\n",
       "    </tr>\n",
       "    <tr>\n",
       "      <th>3</th>\n",
       "      <td>waste</td>\n",
       "      <td>1</td>\n",
       "      <td>1</td>\n",
       "      <td>2</td>\n",
       "      <td>0</td>\n",
       "      <td>1</td>\n",
       "      <td>1</td>\n",
       "      <td>1</td>\n",
       "      <td>2</td>\n",
       "      <td>2</td>\n",
       "    </tr>\n",
       "    <tr>\n",
       "      <th>4</th>\n",
       "      <td>Electricity</td>\n",
       "      <td>2</td>\n",
       "      <td>2</td>\n",
       "      <td>2</td>\n",
       "      <td>2</td>\n",
       "      <td>0</td>\n",
       "      <td>1</td>\n",
       "      <td>2</td>\n",
       "      <td>2</td>\n",
       "      <td>2</td>\n",
       "    </tr>\n",
       "    <tr>\n",
       "      <th>5</th>\n",
       "      <td>manufacture and construction</td>\n",
       "      <td>2</td>\n",
       "      <td>2</td>\n",
       "      <td>2</td>\n",
       "      <td>2</td>\n",
       "      <td>2</td>\n",
       "      <td>0</td>\n",
       "      <td>2</td>\n",
       "      <td>2</td>\n",
       "      <td>2</td>\n",
       "    </tr>\n",
       "    <tr>\n",
       "      <th>6</th>\n",
       "      <td>transportation</td>\n",
       "      <td>1</td>\n",
       "      <td>2</td>\n",
       "      <td>2</td>\n",
       "      <td>2</td>\n",
       "      <td>1</td>\n",
       "      <td>1</td>\n",
       "      <td>0</td>\n",
       "      <td>2</td>\n",
       "      <td>2</td>\n",
       "    </tr>\n",
       "    <tr>\n",
       "      <th>7</th>\n",
       "      <td>Fugative emission</td>\n",
       "      <td>1</td>\n",
       "      <td>1</td>\n",
       "      <td>2</td>\n",
       "      <td>1</td>\n",
       "      <td>1</td>\n",
       "      <td>1</td>\n",
       "      <td>1</td>\n",
       "      <td>0</td>\n",
       "      <td>1</td>\n",
       "    </tr>\n",
       "    <tr>\n",
       "      <th>8</th>\n",
       "      <td>Other</td>\n",
       "      <td>1</td>\n",
       "      <td>2</td>\n",
       "      <td>2</td>\n",
       "      <td>2</td>\n",
       "      <td>1</td>\n",
       "      <td>1</td>\n",
       "      <td>1</td>\n",
       "      <td>2</td>\n",
       "      <td>0</td>\n",
       "    </tr>\n",
       "  </tbody>\n",
       "</table>\n",
       "</div>"
      ],
      "text/plain": [
       "                         sector  Agriculture  Industrial Process  Bunker fuel  \\\n",
       "0                   Agriculture            0                   2            2   \n",
       "1            Industrial Process            1                   0            2   \n",
       "2                   Bunker fuel            1                   1            0   \n",
       "3                         waste            1                   1            2   \n",
       "4                   Electricity            2                   2            2   \n",
       "5  manufacture and construction            2                   2            2   \n",
       "6                transportation            1                   2            2   \n",
       "7             Fugative emission            1                   1            2   \n",
       "8                        Other             1                   2            2   \n",
       "\n",
       "   Electricity  Bunker fuel.1  manufacture and construction  transportation  \\\n",
       "0            2              1                             1               1   \n",
       "1            2              1                             1               1   \n",
       "2            1              1                             1               1   \n",
       "3            0              1                             1               1   \n",
       "4            2              0                             1               2   \n",
       "5            2              2                             0               2   \n",
       "6            2              1                             1               0   \n",
       "7            1              1                             1               1   \n",
       "8            2              1                             1               1   \n",
       "\n",
       "   Fugative emission  Other   \n",
       "0                  2       1  \n",
       "1                  2       1  \n",
       "2                  1       1  \n",
       "3                  2       2  \n",
       "4                  2       2  \n",
       "5                  2       2  \n",
       "6                  2       2  \n",
       "7                  0       1  \n",
       "8                  2       0  "
      ]
     },
     "execution_count": 74,
     "metadata": {},
     "output_type": "execute_result"
    }
   ],
   "source": [
    "ranking_matrix"
   ]
  },
  {
   "cell_type": "code",
   "execution_count": 75,
   "id": "15a7dde7",
   "metadata": {},
   "outputs": [
    {
     "data": {
      "text/plain": [
       "array([[0, 2, 2, 2, 1, 1, 1, 2, 1],\n",
       "       [1, 0, 2, 2, 1, 1, 1, 2, 1],\n",
       "       [1, 1, 0, 1, 1, 1, 1, 1, 1],\n",
       "       [1, 1, 2, 0, 1, 1, 1, 2, 2],\n",
       "       [2, 2, 2, 2, 0, 1, 2, 2, 2],\n",
       "       [2, 2, 2, 2, 2, 0, 2, 2, 2],\n",
       "       [1, 2, 2, 2, 1, 1, 0, 2, 2],\n",
       "       [1, 1, 2, 1, 1, 1, 1, 0, 1],\n",
       "       [1, 2, 2, 2, 1, 1, 1, 2, 0]], dtype=int64)"
      ]
     },
     "execution_count": 75,
     "metadata": {},
     "output_type": "execute_result"
    }
   ],
   "source": [
    "matrix=ranking_matrix.iloc[:,1:].to_numpy()\n",
    "matrix"
   ]
  },
  {
   "cell_type": "code",
   "execution_count": 76,
   "id": "1c6808ed",
   "metadata": {},
   "outputs": [
    {
     "name": "stdout",
     "output_type": "stream",
     "text": [
      "Dominant eigenvector: [0.32586751 0.30158784 0.23739963 0.30339686 0.40668255 0.439423\n",
      " 0.35210185 0.25651175 0.32586751]\n",
      "Dominant eigenvalue: 11.421411796889661\n"
     ]
    }
   ],
   "source": [
    "import numpy as np\n",
    "\n",
    "def power_method(A, x0, num_iterations):\n",
    "    x = x0\n",
    "    for i in range(num_iterations):\n",
    "        x_new = np.dot(A, x)\n",
    "        lambda_new = np.dot(x_new, x) / np.dot(x, x)\n",
    "        x = x_new / np.linalg.norm(x_new)\n",
    "    return x, lambda_new\n",
    "\n",
    "\n",
    "A = np.array(matrix)\n",
    "x0 = np.ones(A.shape[1])\n",
    "sector=ranking_matrix['sector']\n",
    "eigenvector, eigenvalue = power_method(A, x0, 10)\n",
    "print(\"Dominant eigenvector:\", eigenvector)\n",
    "print(\"Dominant eigenvalue:\", eigenvalue)\n"
   ]
  },
  {
   "cell_type": "code",
   "execution_count": 77,
   "id": "6d069eb9",
   "metadata": {},
   "outputs": [
    {
     "data": {
      "text/plain": [
       "0                     Agriculture\n",
       "1              Industrial Process\n",
       "2                     Bunker fuel\n",
       "3                           waste\n",
       "4                     Electricity\n",
       "5    manufacture and construction\n",
       "6                  transportation\n",
       "7               Fugative emission\n",
       "8                          Other \n",
       "Name: sector, dtype: object"
      ]
     },
     "execution_count": 77,
     "metadata": {},
     "output_type": "execute_result"
    }
   ],
   "source": [
    "Sector=ranking_matrix['sector']\n",
    "Sector"
   ]
  },
  {
   "cell_type": "code",
   "execution_count": 78,
   "id": "5a2fab9a",
   "metadata": {},
   "outputs": [
    {
     "name": "stdout",
     "output_type": "stream",
     "text": [
      "0                     Agriculture\n",
      "1              Industrial Process\n",
      "2                     Bunker fuel\n",
      "3                           waste\n",
      "4                     Electricity\n",
      "5    manufacture and construction\n",
      "6                  transportation\n",
      "7               Fugative emission\n",
      "8                          Other \n",
      "Name: sector, dtype: object [0.32586751 0.30158784 0.23739963 0.30339686 0.40668255 0.439423\n",
      " 0.35210185 0.25651175 0.32586751]\n"
     ]
    }
   ],
   "source": [
    "print(Sector,eigenvector)"
   ]
  },
  {
   "cell_type": "code",
   "execution_count": 79,
   "id": "ef522bd3",
   "metadata": {},
   "outputs": [
    {
     "data": {
      "text/plain": [
       "0    0.325868\n",
       "1    0.301588\n",
       "2    0.237400\n",
       "3    0.303397\n",
       "4    0.406683\n",
       "5    0.439423\n",
       "6    0.352102\n",
       "7    0.256512\n",
       "8    0.325868\n",
       "Name: eigenvector, dtype: float64"
      ]
     },
     "execution_count": 79,
     "metadata": {},
     "output_type": "execute_result"
    }
   ],
   "source": [
    "ranking_matrix['eigenvector']=eigenvector\n",
    "ranking_matrix['eigenvector']"
   ]
  },
  {
   "cell_type": "code",
   "execution_count": 80,
   "id": "56f70ab0",
   "metadata": {},
   "outputs": [
    {
     "data": {
      "text/html": [
       "<div>\n",
       "<style scoped>\n",
       "    .dataframe tbody tr th:only-of-type {\n",
       "        vertical-align: middle;\n",
       "    }\n",
       "\n",
       "    .dataframe tbody tr th {\n",
       "        vertical-align: top;\n",
       "    }\n",
       "\n",
       "    .dataframe thead th {\n",
       "        text-align: right;\n",
       "    }\n",
       "</style>\n",
       "<table border=\"1\" class=\"dataframe\">\n",
       "  <thead>\n",
       "    <tr style=\"text-align: right;\">\n",
       "      <th></th>\n",
       "      <th>sector</th>\n",
       "      <th>eigenvector</th>\n",
       "    </tr>\n",
       "  </thead>\n",
       "  <tbody>\n",
       "    <tr>\n",
       "      <th>0</th>\n",
       "      <td>Agriculture</td>\n",
       "      <td>0.325868</td>\n",
       "    </tr>\n",
       "    <tr>\n",
       "      <th>1</th>\n",
       "      <td>Industrial Process</td>\n",
       "      <td>0.301588</td>\n",
       "    </tr>\n",
       "    <tr>\n",
       "      <th>2</th>\n",
       "      <td>Bunker fuel</td>\n",
       "      <td>0.237400</td>\n",
       "    </tr>\n",
       "    <tr>\n",
       "      <th>3</th>\n",
       "      <td>waste</td>\n",
       "      <td>0.303397</td>\n",
       "    </tr>\n",
       "    <tr>\n",
       "      <th>4</th>\n",
       "      <td>Electricity</td>\n",
       "      <td>0.406683</td>\n",
       "    </tr>\n",
       "    <tr>\n",
       "      <th>5</th>\n",
       "      <td>manufacture and construction</td>\n",
       "      <td>0.439423</td>\n",
       "    </tr>\n",
       "    <tr>\n",
       "      <th>6</th>\n",
       "      <td>transportation</td>\n",
       "      <td>0.352102</td>\n",
       "    </tr>\n",
       "    <tr>\n",
       "      <th>7</th>\n",
       "      <td>Fugative emission</td>\n",
       "      <td>0.256512</td>\n",
       "    </tr>\n",
       "    <tr>\n",
       "      <th>8</th>\n",
       "      <td>Other</td>\n",
       "      <td>0.325868</td>\n",
       "    </tr>\n",
       "  </tbody>\n",
       "</table>\n",
       "</div>"
      ],
      "text/plain": [
       "                         sector  eigenvector\n",
       "0                   Agriculture     0.325868\n",
       "1            Industrial Process     0.301588\n",
       "2                   Bunker fuel     0.237400\n",
       "3                         waste     0.303397\n",
       "4                   Electricity     0.406683\n",
       "5  manufacture and construction     0.439423\n",
       "6                transportation     0.352102\n",
       "7             Fugative emission     0.256512\n",
       "8                        Other      0.325868"
      ]
     },
     "execution_count": 80,
     "metadata": {},
     "output_type": "execute_result"
    }
   ],
   "source": [
    "show_eig=ranking_matrix[['sector','eigenvector']]\n",
    "show_eig"
   ]
  },
  {
   "cell_type": "code",
   "execution_count": null,
   "id": "24d09bde",
   "metadata": {},
   "outputs": [],
   "source": []
  },
  {
   "cell_type": "code",
   "execution_count": null,
   "id": "f1dbfd57",
   "metadata": {},
   "outputs": [],
   "source": []
  },
  {
   "cell_type": "code",
   "execution_count": 81,
   "id": "6361f796",
   "metadata": {},
   "outputs": [
    {
     "data": {
      "image/png": "[encoded data removed]",
      "text/plain": [
       "<Figure size 720x216 with 1 Axes>"
      ]
     },
     "metadata": {
      "needs_background": "light"
     },
     "output_type": "display_data"
    }
   ],
   "source": [
    "plt.figure(figsize=(10,3))\n",
    "plt.bar(show_eig['sector'],show_eig['eigenvector'],color='orange')\n",
    "plt.plot(show_eig['sector'],show_eig['eigenvector'],color='green')\n",
    "plt.xlabel('Sectors',fontsize=\"15\")\n",
    "plt.ylabel(' Green House gases',fontsize=\"14\")\n",
    "plt.title('Rank of sector to produce green house gases',fontsize=\"14\")\n",
    "plt.xticks(rotation=90)\n",
    "plt.show()"
   ]
  },
  {
   "cell_type": "code",
   "execution_count": 82,
   "id": "c90f9d8e",
   "metadata": {},
   "outputs": [
    {
     "data": {
      "text/plain": [
       "()"
      ]
     },
     "execution_count": 82,
     "metadata": {},
     "output_type": "execute_result"
    }
   ],
   "source": [
    "()"
   ]
  },
  {
   "cell_type": "code",
   "execution_count": null,
   "id": "b6d91cbd",
   "metadata": {},
   "outputs": [],
   "source": []
  },
  {
   "cell_type": "code",
   "execution_count": null,
   "id": "f08bd79a",
   "metadata": {},
   "outputs": [],
   "source": []
  },
  {
   "cell_type": "code",
   "execution_count": null,
   "id": "99522711",
   "metadata": {},
   "outputs": [],
   "source": []
  },
  {
   "cell_type": "code",
   "execution_count": null,
   "id": "7944a569",
   "metadata": {},
   "outputs": [],
   "source": []
  },
  {
   "cell_type": "code",
   "execution_count": null,
   "id": "760da6c1",
   "metadata": {},
   "outputs": [],
   "source": []
  },
  {
   "cell_type": "code",
   "execution_count": null,
   "id": "f34ec58b",
   "metadata": {},
   "outputs": [],
   "source": []
  },
  {
   "cell_type": "code",
   "execution_count": 83,
   "id": "8de04e5f",
   "metadata": {},
   "outputs": [],
   "source": [
    "ranking_matrix['sector']=sector"
   ]
  },
  {
   "cell_type": "code",
   "execution_count": null,
   "id": "dbafb977",
   "metadata": {},
   "outputs": [],
   "source": []
  },
  {
   "cell_type": "code",
   "execution_count": null,
   "id": "0fca5dd5",
   "metadata": {},
   "outputs": [],
   "source": []
  },
  {
   "cell_type": "code",
   "execution_count": 84,
   "id": "0c7ffca8",
   "metadata": {},
   "outputs": [],
   "source": [
    "# To check the claim that contribution of all the sector in releasing Greenhouse gas is same in India."
   ]
  },
  {
   "cell_type": "markdown",
   "id": "2100e049",
   "metadata": {},
   "source": [
    "ANOVA HYPOTHESIS"
   ]
  },
  {
   "cell_type": "code",
   "execution_count": 85,
   "id": "cd0baae9",
   "metadata": {},
   "outputs": [
    {
     "name": "stdout",
     "output_type": "stream",
     "text": [
      "The total number of rows in the dataset: 435\n"
     ]
    }
   ],
   "source": [
    "print('The total number of rows in the dataset:', data.size)  "
   ]
  },
  {
   "cell_type": "code",
   "execution_count": 86,
   "id": "33c85505",
   "metadata": {},
   "outputs": [
    {
     "name": "stderr",
     "output_type": "stream",
     "text": [
      "C:\\Users\\91820\\.ipython\\anaconda\\lib\\site-packages\\seaborn\\distributions.py:2619: FutureWarning: `distplot` is a deprecated function and will be removed in a future version. Please adapt your code to use either `displot` (a figure-level function with similar flexibility) or `histplot` (an axes-level function for histograms).\n",
      "  warnings.warn(msg, FutureWarning)\n"
     ]
    },
    {
     "data": {
      "image/png": "[encoded data removed]",
      "text/plain": [
       "<Figure size 432x216 with 1 Axes>"
      ]
     },
     "metadata": {
      "needs_background": "light"
     },
     "output_type": "display_data"
    }
   ],
   "source": [
    "import seaborn as sns\n",
    "f, ax = plt.subplots( figsize = (6,3) )  \n",
    "plt.title( 'Sector' )    \n",
    "sns.distplot( data['Waste(MTCO2e)'])  \n",
    "plt.show()  "
   ]
  },
  {
   "cell_type": "code",
   "execution_count": null,
   "id": "6a29e993",
   "metadata": {},
   "outputs": [],
   "source": []
  },
  {
   "cell_type": "code",
   "execution_count": 87,
   "id": "aa745148",
   "metadata": {},
   "outputs": [
    {
     "data": {
      "text/plain": [
       "645.8875862068965"
      ]
     },
     "execution_count": 87,
     "metadata": {},
     "output_type": "execute_result"
    }
   ],
   "source": [
    "#Step 1\n",
    "µ1=df['Agriculture (MTCO2e)'].mean()\n",
    "µ1"
   ]
  },
  {
   "cell_type": "code",
   "execution_count": 88,
   "id": "12f88a2a",
   "metadata": {},
   "outputs": [
    {
     "data": {
      "text/plain": [
       "73.46172413793104"
      ]
     },
     "execution_count": 88,
     "metadata": {},
     "output_type": "execute_result"
    }
   ],
   "source": [
    "µ2=df['Industrial process(MTCO2e)'].mean()\n",
    "µ2"
   ]
  },
  {
   "cell_type": "code",
   "execution_count": 89,
   "id": "6c58faea",
   "metadata": {},
   "outputs": [
    {
     "data": {
      "text/plain": [
       "10.220357142857143"
      ]
     },
     "execution_count": 89,
     "metadata": {},
     "output_type": "execute_result"
    }
   ],
   "source": [
    "µ3=df['Bunker(MTCO2e)'].mean()\n",
    "µ3"
   ]
  },
  {
   "cell_type": "code",
   "execution_count": 90,
   "id": "607e798d",
   "metadata": {},
   "outputs": [
    {
     "data": {
      "text/plain": [
       "62.277142857142856"
      ]
     },
     "execution_count": 90,
     "metadata": {},
     "output_type": "execute_result"
    }
   ],
   "source": [
    "µ4=df['Waste(MTCO2e)'].mean()\n",
    "µ4"
   ]
  },
  {
   "cell_type": "code",
   "execution_count": 91,
   "id": "05b17d78",
   "metadata": {},
   "outputs": [
    {
     "data": {
      "text/plain": [
       "643.8996296296297"
      ]
     },
     "execution_count": 91,
     "metadata": {},
     "output_type": "execute_result"
    }
   ],
   "source": [
    "µ5=df['Elecricity(MTCO2e)'].mean()\n",
    "µ5"
   ]
  },
  {
   "cell_type": "code",
   "execution_count": 92,
   "id": "3e0c3203",
   "metadata": {},
   "outputs": [
    {
     "data": {
      "text/plain": [
       "737.2299999999999"
      ]
     },
     "execution_count": 92,
     "metadata": {},
     "output_type": "execute_result"
    }
   ],
   "source": [
    "µ6=df['Manufacture and cunstruction(MTCO2e)'].mean()\n",
    "µ6"
   ]
  },
  {
   "cell_type": "code",
   "execution_count": 93,
   "id": "e0f9bde0",
   "metadata": {},
   "outputs": [
    {
     "data": {
      "text/plain": [
       "144.60655172413794"
      ]
     },
     "execution_count": 93,
     "metadata": {},
     "output_type": "execute_result"
    }
   ],
   "source": [
    "µ7=df['Transportation(MTCO2e)'].mean()\n",
    "µ7"
   ]
  },
  {
   "cell_type": "code",
   "execution_count": 94,
   "id": "7dda2ef7",
   "metadata": {},
   "outputs": [
    {
     "data": {
      "text/plain": [
       "47.08535714285714"
      ]
     },
     "execution_count": 94,
     "metadata": {},
     "output_type": "execute_result"
    }
   ],
   "source": [
    "µ8=df['Fugate emission(MTCO2e)'].mean()\n",
    "µ8"
   ]
  },
  {
   "cell_type": "code",
   "execution_count": 95,
   "id": "4d80e9b8",
   "metadata": {},
   "outputs": [
    {
     "data": {
      "text/plain": [
       "105.33965517241379"
      ]
     },
     "execution_count": 95,
     "metadata": {},
     "output_type": "execute_result"
    }
   ],
   "source": [
    "µ9=df['Other(MTCO2e)'].mean()\n",
    "µ9"
   ]
  },
  {
   "cell_type": "code",
   "execution_count": 96,
   "id": "895143a8",
   "metadata": {},
   "outputs": [
    {
     "name": "stdout",
     "output_type": "stream",
     "text": [
      "Alternative\n"
     ]
    }
   ],
   "source": [
    "if µ1==µ2==µ3==µ4==µ5==µ6==µ7==µ8==µ9:\n",
    "    print('Null hypo')\n",
    "else:\n",
    "    print(\"Alternative\")"
   ]
  },
  {
   "cell_type": "code",
   "execution_count": 97,
   "id": "aaa3694e",
   "metadata": {},
   "outputs": [
    {
     "data": {
      "text/plain": [
       "274.4453337793184"
      ]
     },
     "execution_count": 97,
     "metadata": {},
     "output_type": "execute_result"
    }
   ],
   "source": [
    "# Step 2\n",
    "\n",
    "#SS between\n",
    "#X = total mean value\n",
    "X=(µ1+µ2+µ3+µ4+µ5+µ6+µ7+µ8+µ9)/9\n",
    "X"
   ]
  },
  {
   "cell_type": "code",
   "execution_count": 98,
   "id": "60aea238",
   "metadata": {},
   "outputs": [
    {
     "data": {
      "text/plain": [
       "28"
      ]
     },
     "execution_count": 98,
     "metadata": {},
     "output_type": "execute_result"
    }
   ],
   "source": [
    "n=28\n",
    "k=252\n",
    "m=9\n",
    "n"
   ]
  },
  {
   "cell_type": "code",
   "execution_count": 99,
   "id": "d1e17b99",
   "metadata": {},
   "outputs": [
    {
     "data": {
      "text/plain": [
       "19947500.441781446"
      ]
     },
     "execution_count": 99,
     "metadata": {},
     "output_type": "execute_result"
    }
   ],
   "source": [
    "SS_bet=(n*((µ1-X)**2)) + (n*((µ2-X)**2)) + (n*((µ3-X)**2)) + (n*((µ4-X)**2)) + (n*((µ5-X)**2)) + (n*((µ6-X)**2)) +(n*((µ7-X)**2)) + (n*((µ8-X)**2))\n",
    "SS_bet"
   ]
  },
  {
   "cell_type": "code",
   "execution_count": 100,
   "id": "95b5b123",
   "metadata": {},
   "outputs": [
    {
     "data": {
      "text/plain": [
       "3863141.7128772335"
      ]
     },
     "execution_count": 100,
     "metadata": {},
     "output_type": "execute_result"
    }
   ],
   "source": [
    "ss1=n*((µ1-X)**2) \n",
    "ss1"
   ]
  },
  {
   "cell_type": "code",
   "execution_count": 101,
   "id": "ff7cde27",
   "metadata": {},
   "outputs": [
    {
     "data": {
      "text/plain": [
       "1131043.5176454838"
      ]
     },
     "execution_count": 101,
     "metadata": {},
     "output_type": "execute_result"
    }
   ],
   "source": [
    "ss2=n*((µ2-X)**2)\n",
    "ss2"
   ]
  },
  {
   "cell_type": "code",
   "execution_count": 102,
   "id": "f4cc5549",
   "metadata": {},
   "outputs": [
    {
     "data": {
      "text/plain": [
       "1954815.4717990777"
      ]
     },
     "execution_count": 102,
     "metadata": {},
     "output_type": "execute_result"
    }
   ],
   "source": [
    "ss3=n*((µ3-X)**2)\n",
    "ss3"
   ]
  },
  {
   "cell_type": "code",
   "execution_count": 103,
   "id": "e75a9f8c",
   "metadata": {},
   "outputs": [
    {
     "data": {
      "text/plain": [
       "1260429.5546972845"
      ]
     },
     "execution_count": 103,
     "metadata": {},
     "output_type": "execute_result"
    }
   ],
   "source": [
    "ss4=n*((µ4-X)**2)\n",
    "ss4"
   ]
  },
  {
   "cell_type": "code",
   "execution_count": 104,
   "id": "98f854dc",
   "metadata": {},
   "outputs": [
    {
     "data": {
      "text/plain": [
       "3821901.348222981"
      ]
     },
     "execution_count": 104,
     "metadata": {},
     "output_type": "execute_result"
    }
   ],
   "source": [
    "ss5=n*((µ5-X)**2)\n",
    "ss5"
   ]
  },
  {
   "cell_type": "code",
   "execution_count": 105,
   "id": "7ac5f9a6",
   "metadata": {},
   "outputs": [
    {
     "data": {
      "text/plain": [
       "5996750.124091652"
      ]
     },
     "execution_count": 105,
     "metadata": {},
     "output_type": "execute_result"
    }
   ],
   "source": [
    "ss6=n*((µ6-X)**2) \n",
    "ss6"
   ]
  },
  {
   "cell_type": "code",
   "execution_count": 106,
   "id": "b90045e5",
   "metadata": {},
   "outputs": [
    {
     "data": {
      "text/plain": [
       "472027.06111603417"
      ]
     },
     "execution_count": 106,
     "metadata": {},
     "output_type": "execute_result"
    }
   ],
   "source": [
    "ss7=n*((µ7-X)**2) \n",
    "ss7"
   ]
  },
  {
   "cell_type": "code",
   "execution_count": 107,
   "id": "ee093cdc",
   "metadata": {},
   "outputs": [
    {
     "data": {
      "text/plain": [
       "1447391.6513317018"
      ]
     },
     "execution_count": 107,
     "metadata": {},
     "output_type": "execute_result"
    }
   ],
   "source": [
    "ss8=n*((µ8-X)**2) \n",
    "ss8"
   ]
  },
  {
   "cell_type": "code",
   "execution_count": 108,
   "id": "54794bf0",
   "metadata": {},
   "outputs": [
    {
     "data": {
      "text/plain": [
       "800708.455038848"
      ]
     },
     "execution_count": 108,
     "metadata": {},
     "output_type": "execute_result"
    }
   ],
   "source": [
    "ss9=n*((µ9-X)**2) \n",
    "ss9"
   ]
  },
  {
   "cell_type": "code",
   "execution_count": 109,
   "id": "ab1de9fa",
   "metadata": {},
   "outputs": [
    {
     "data": {
      "text/plain": [
       "20748208.896820296"
      ]
     },
     "execution_count": 109,
     "metadata": {},
     "output_type": "execute_result"
    }
   ],
   "source": [
    "SS_b=ss1+ss2+ss3+ss4+ss5+ss6+ss7+ss8+ss9\n",
    "SS_b"
   ]
  },
  {
   "cell_type": "code",
   "execution_count": null,
   "id": "6c8880f9",
   "metadata": {},
   "outputs": [],
   "source": []
  },
  {
   "cell_type": "code",
   "execution_count": 130,
   "id": "0385ca96",
   "metadata": {},
   "outputs": [
    {
     "data": {
      "text/plain": [
       "65432.199531034516"
      ]
     },
     "execution_count": 130,
     "metadata": {},
     "output_type": "execute_result"
    }
   ],
   "source": [
    "a=(df['Agriculture (MTCO2e)']-µ1)**2\n",
    "a_sum=a.sum()\n",
    "a_sum\n"
   ]
  },
  {
   "cell_type": "code",
   "execution_count": 131,
   "id": "71ea0ec2",
   "metadata": {},
   "outputs": [
    {
     "data": {
      "text/plain": [
       "41967.231613793105"
      ]
     },
     "execution_count": 131,
     "metadata": {},
     "output_type": "execute_result"
    }
   ],
   "source": [
    "b=(df['Industrial process(MTCO2e)']-µ2)**2\n",
    "b_sum=b.sum()\n",
    "b_sum"
   ]
  },
  {
   "cell_type": "code",
   "execution_count": 132,
   "id": "d851d892",
   "metadata": {},
   "outputs": [
    {
     "data": {
      "text/plain": [
       "492.3466964285715"
      ]
     },
     "execution_count": 132,
     "metadata": {},
     "output_type": "execute_result"
    }
   ],
   "source": [
    "c=(df['Bunker(MTCO2e)']-µ3)**2\n",
    "c_sum=c.sum()\n",
    "c_sum"
   ]
  },
  {
   "cell_type": "code",
   "execution_count": 133,
   "id": "ef96b486",
   "metadata": {},
   "outputs": [
    {
     "data": {
      "text/plain": [
       "9819.831171428572"
      ]
     },
     "execution_count": 133,
     "metadata": {},
     "output_type": "execute_result"
    }
   ],
   "source": [
    "d=(df['Waste(MTCO2e)']-µ4)**2\n",
    "d_sum=d.sum()\n",
    "d_sum"
   ]
  },
  {
   "cell_type": "code",
   "execution_count": 134,
   "id": "debe2ccf",
   "metadata": {},
   "outputs": [
    {
     "data": {
      "text/plain": [
       "2529920.9972962956"
      ]
     },
     "execution_count": 134,
     "metadata": {},
     "output_type": "execute_result"
    }
   ],
   "source": [
    "e=(df['Elecricity(MTCO2e)']-µ5)**2\n",
    "e_sum=e.sum()\n",
    "e_sum"
   ]
  },
  {
   "cell_type": "code",
   "execution_count": 135,
   "id": "8a816ee9",
   "metadata": {},
   "outputs": [
    {
     "data": {
      "text/plain": [
       "3256269.6942000003"
      ]
     },
     "execution_count": 135,
     "metadata": {},
     "output_type": "execute_result"
    }
   ],
   "source": [
    "f=(df['Manufacture and cunstruction(MTCO2e)']-µ6)**2\n",
    "f_sum=f.sum()\n",
    "f_sum"
   ]
  },
  {
   "cell_type": "code",
   "execution_count": 136,
   "id": "5227e680",
   "metadata": {},
   "outputs": [
    {
     "data": {
      "text/plain": [
       "161736.05425517238"
      ]
     },
     "execution_count": 136,
     "metadata": {},
     "output_type": "execute_result"
    }
   ],
   "source": [
    "g=(df['Transportation(MTCO2e)']-µ7)**2\n",
    "g_sum=g.sum()\n",
    "g_sum"
   ]
  },
  {
   "cell_type": "code",
   "execution_count": 137,
   "id": "8f208bec",
   "metadata": {},
   "outputs": [
    {
     "data": {
      "text/plain": [
       "2266.623096428571"
      ]
     },
     "execution_count": 137,
     "metadata": {},
     "output_type": "execute_result"
    }
   ],
   "source": [
    "h=(df['Fugate emission(MTCO2e)']-µ8)**2\n",
    "h_sum=h.sum()\n",
    "h_sum"
   ]
  },
  {
   "cell_type": "code",
   "execution_count": 138,
   "id": "2d44acb2",
   "metadata": {},
   "outputs": [
    {
     "data": {
      "text/plain": [
       "12028.608496551722"
      ]
     },
     "execution_count": 138,
     "metadata": {},
     "output_type": "execute_result"
    }
   ],
   "source": [
    "i=(df['Other(MTCO2e)']-µ9)**2\n",
    "i_sum=i.sum()\n",
    "i_sum"
   ]
  },
  {
   "cell_type": "code",
   "execution_count": null,
   "id": "7fec72b3",
   "metadata": {},
   "outputs": [],
   "source": []
  },
  {
   "cell_type": "code",
   "execution_count": 119,
   "id": "ef40b658",
   "metadata": {},
   "outputs": [
    {
     "data": {
      "text/plain": [
       "6079933.586357133"
      ]
     },
     "execution_count": 119,
     "metadata": {},
     "output_type": "execute_result"
    }
   ],
   "source": [
    "SS_w=a_sum+b_sum+c_sum+d_sum+e_sum+f_sum+g_sum+h_sum+i_sum\n",
    "SS_w"
   ]
  },
  {
   "cell_type": "code",
   "execution_count": 120,
   "id": "04252f28",
   "metadata": {},
   "outputs": [
    {
     "data": {
      "text/plain": [
       "26828142.48317743"
      ]
     },
     "execution_count": 120,
     "metadata": {},
     "output_type": "execute_result"
    }
   ],
   "source": [
    "SS_tot= SS_b+SS_w\n",
    "SS_tot"
   ]
  },
  {
   "cell_type": "code",
   "execution_count": 139,
   "id": "f01c14b8",
   "metadata": {},
   "outputs": [
    {
     "data": {
      "text/plain": [
       "8"
      ]
     },
     "execution_count": 139,
     "metadata": {},
     "output_type": "execute_result"
    }
   ],
   "source": [
    "#df\n",
    "x=m-1\n",
    "x"
   ]
  },
  {
   "cell_type": "code",
   "execution_count": 140,
   "id": "5ee93ae2",
   "metadata": {},
   "outputs": [
    {
     "data": {
      "text/plain": [
       "243"
      ]
     },
     "execution_count": 140,
     "metadata": {},
     "output_type": "execute_result"
    }
   ],
   "source": [
    "y=k-m\n",
    "y"
   ]
  },
  {
   "cell_type": "code",
   "execution_count": 123,
   "id": "39134527",
   "metadata": {},
   "outputs": [
    {
     "data": {
      "text/plain": [
       "27"
      ]
     },
     "execution_count": 123,
     "metadata": {},
     "output_type": "execute_result"
    }
   ],
   "source": [
    "z=n-1\n",
    "z"
   ]
  },
  {
   "cell_type": "code",
   "execution_count": 124,
   "id": "e17deacf",
   "metadata": {},
   "outputs": [
    {
     "data": {
      "text/plain": [
       "2593526.112102537"
      ]
     },
     "execution_count": 124,
     "metadata": {},
     "output_type": "execute_result"
    }
   ],
   "source": [
    "# MS\n",
    "Ms_SS_b=SS_b/x\n",
    "Ms_SS_b"
   ]
  },
  {
   "cell_type": "code",
   "execution_count": 125,
   "id": "db4f071b",
   "metadata": {},
   "outputs": [
    {
     "data": {
      "text/plain": [
       "25020.30282451495"
      ]
     },
     "execution_count": 125,
     "metadata": {},
     "output_type": "execute_result"
    }
   ],
   "source": [
    "Ms_SS_w=SS_w/y\n",
    "Ms_SS_w"
   ]
  },
  {
   "cell_type": "code",
   "execution_count": 126,
   "id": "65ecd1b7",
   "metadata": {},
   "outputs": [
    {
     "data": {
      "text/plain": [
       "993634.9067843492"
      ]
     },
     "execution_count": 126,
     "metadata": {},
     "output_type": "execute_result"
    }
   ],
   "source": [
    "Ms_SS_tot=SS_tot/z\n",
    "Ms_SS_tot"
   ]
  },
  {
   "cell_type": "code",
   "execution_count": 127,
   "id": "3c8e2cdf",
   "metadata": {},
   "outputs": [
    {
     "data": {
      "text/plain": [
       "103.65686339980641"
      ]
     },
     "execution_count": 127,
     "metadata": {},
     "output_type": "execute_result"
    }
   ],
   "source": [
    "# F Ratio\n",
    "F_ratio= Ms_SS_b/Ms_SS_w\n",
    "F_ratio"
   ]
  },
  {
   "cell_type": "code",
   "execution_count": 128,
   "id": "11750a51",
   "metadata": {},
   "outputs": [],
   "source": [
    "# critical value is 3.52 FROM DISTRIBUTION \n",
    "F_8_19 = 3.52"
   ]
  },
  {
   "cell_type": "code",
   "execution_count": 129,
   "id": "c02c624f",
   "metadata": {},
   "outputs": [
    {
     "name": "stdout",
     "output_type": "stream",
     "text": [
      "contribution of all the Sectors in releasing Greenhouse gas is not same in INDIA, : Alternative Hypothesis\n"
     ]
    }
   ],
   "source": [
    "if F_ratio>3.52 or F_ratio< -3.52:\n",
    "    print('contribution of all the Sectors in releasing Greenhouse gas is not same in INDIA, : Alternative Hypothesis')\n",
    "else:\n",
    "    print('contribution of all the Sectors in releasing Greenhouse gas is same in INDIA : , Null Hypothesis')"
   ]
  },
  {
   "cell_type": "code",
   "execution_count": null,
   "id": "7204a60b",
   "metadata": {},
   "outputs": [],
   "source": []
  },
  {
   "cell_type": "code",
   "execution_count": null,
   "id": "1824c3c1",
   "metadata": {},
   "outputs": [],
   "source": []
  },
  {
   "cell_type": "code",
   "execution_count": null,
   "id": "60a7a76d",
   "metadata": {},
   "outputs": [],
   "source": []
  },
  {
   "cell_type": "code",
   "execution_count": null,
   "id": "7731d1c9",
   "metadata": {},
   "outputs": [],
   "source": []
  },
  {
   "cell_type": "code",
   "execution_count": null,
   "id": "fd95092f",
   "metadata": {},
   "outputs": [],
   "source": []
  },
  {
   "cell_type": "code",
   "execution_count": null,
   "id": "fdabcd6b",
   "metadata": {},
   "outputs": [],
   "source": []
  },
  {
   "cell_type": "code",
   "execution_count": 148,
   "id": "ecdb3136",
   "metadata": {},
   "outputs": [
    {
     "name": "stdout",
     "output_type": "stream",
     "text": [
      "F-value:  111.33514957756992\n",
      "p-value:  3.1597838393808955e-78\n"
     ]
    }
   ],
   "source": [
    "from scipy.stats import f_oneway\n",
    "# Create a list of data for each sector\n",
    "\n",
    "\n",
    "# Perform the F-test\n",
    "f_value, p_value = f_oneway(df['Agriculture (MTCO2e)'],df['Industrial process(MTCO2e)'],df['Bunker(MTCO2e)'],df['Waste(MTCO2e)'],df['Elecricity(MTCO2e)'],df['Manufacture and cunstruction(MTCO2e)'],df['Transportation(MTCO2e)'],df['Fugate emission(MTCO2e)'],df['Other(MTCO2e)'])\n",
    "\n",
    "# Print the F-value and p-value\n",
    "print(\"F-value: \", f_value)\n",
    "print(\"p-value: \", p_value)"
   ]
  },
  {
   "cell_type": "code",
   "execution_count": 141,
   "id": "f19990e3",
   "metadata": {},
   "outputs": [
    {
     "data": {
      "text/html": [
       "<div>\n",
       "<style scoped>\n",
       "    .dataframe tbody tr th:only-of-type {\n",
       "        vertical-align: middle;\n",
       "    }\n",
       "\n",
       "    .dataframe tbody tr th {\n",
       "        vertical-align: top;\n",
       "    }\n",
       "\n",
       "    .dataframe thead th {\n",
       "        text-align: right;\n",
       "    }\n",
       "</style>\n",
       "<table border=\"1\" class=\"dataframe\">\n",
       "  <thead>\n",
       "    <tr style=\"text-align: right;\">\n",
       "      <th></th>\n",
       "      <th>Year</th>\n",
       "      <th>Agriculture (MTCO2e)</th>\n",
       "      <th>Industrial process(MTCO2e)</th>\n",
       "      <th>Bunker(MTCO2e)</th>\n",
       "      <th>Waste(MTCO2e)</th>\n",
       "      <th>Elecricity(MTCO2e)</th>\n",
       "      <th>Manufacture and cunstruction(MTCO2e)</th>\n",
       "      <th>Transportation(MTCO2e)</th>\n",
       "      <th>Fugate emission(MTCO2e)</th>\n",
       "      <th>Other(MTCO2e)</th>\n",
       "      <th>y_pre Bunker</th>\n",
       "      <th>residuals</th>\n",
       "      <th>residuals_squared</th>\n",
       "      <th>residuals of Mean</th>\n",
       "      <th>residuals_square</th>\n",
       "    </tr>\n",
       "  </thead>\n",
       "  <tbody>\n",
       "    <tr>\n",
       "      <th>0</th>\n",
       "      <td>1990</td>\n",
       "      <td>566.55</td>\n",
       "      <td>26.50</td>\n",
       "      <td>5.120000</td>\n",
       "      <td>24.540000</td>\n",
       "      <td>231.23000</td>\n",
       "      <td>256.46</td>\n",
       "      <td>64.35</td>\n",
       "      <td>36.520000</td>\n",
       "      <td>70.59</td>\n",
       "      <td>3.494564</td>\n",
       "      <td>1.625436e+00</td>\n",
       "      <td>2.642042e+00</td>\n",
       "      <td>-5.100357e+00</td>\n",
       "      <td>2.601364e+01</td>\n",
       "    </tr>\n",
       "    <tr>\n",
       "      <th>1</th>\n",
       "      <td>1991</td>\n",
       "      <td>573.97</td>\n",
       "      <td>29.00</td>\n",
       "      <td>4.870000</td>\n",
       "      <td>25.790000</td>\n",
       "      <td>258.36000</td>\n",
       "      <td>284.16</td>\n",
       "      <td>66.35</td>\n",
       "      <td>39.080000</td>\n",
       "      <td>75.55</td>\n",
       "      <td>3.974978</td>\n",
       "      <td>8.950222e-01</td>\n",
       "      <td>8.010647e-01</td>\n",
       "      <td>-5.350357e+00</td>\n",
       "      <td>2.862632e+01</td>\n",
       "    </tr>\n",
       "    <tr>\n",
       "      <th>2</th>\n",
       "      <td>1992</td>\n",
       "      <td>580.41</td>\n",
       "      <td>30.06</td>\n",
       "      <td>4.950000</td>\n",
       "      <td>25.860000</td>\n",
       "      <td>278.36000</td>\n",
       "      <td>304.23</td>\n",
       "      <td>68.69</td>\n",
       "      <td>38.630000</td>\n",
       "      <td>76.44</td>\n",
       "      <td>4.455392</td>\n",
       "      <td>4.946084e-01</td>\n",
       "      <td>2.446374e-01</td>\n",
       "      <td>-5.270357e+00</td>\n",
       "      <td>2.777666e+01</td>\n",
       "    </tr>\n",
       "    <tr>\n",
       "      <th>3</th>\n",
       "      <td>1993</td>\n",
       "      <td>587.12</td>\n",
       "      <td>31.06</td>\n",
       "      <td>5.400000</td>\n",
       "      <td>26.500000</td>\n",
       "      <td>306.80000</td>\n",
       "      <td>333.33</td>\n",
       "      <td>68.99</td>\n",
       "      <td>35.060000</td>\n",
       "      <td>76.09</td>\n",
       "      <td>4.935805</td>\n",
       "      <td>4.641946e-01</td>\n",
       "      <td>2.154766e-01</td>\n",
       "      <td>-4.820357e+00</td>\n",
       "      <td>2.323584e+01</td>\n",
       "    </tr>\n",
       "    <tr>\n",
       "      <th>4</th>\n",
       "      <td>1994</td>\n",
       "      <td>595.12</td>\n",
       "      <td>34.05</td>\n",
       "      <td>5.840000</td>\n",
       "      <td>62.277143</td>\n",
       "      <td>319.80000</td>\n",
       "      <td>347.21</td>\n",
       "      <td>70.81</td>\n",
       "      <td>35.470000</td>\n",
       "      <td>81.45</td>\n",
       "      <td>5.416219</td>\n",
       "      <td>4.237808e-01</td>\n",
       "      <td>1.795902e-01</td>\n",
       "      <td>-4.380357e+00</td>\n",
       "      <td>1.918753e+01</td>\n",
       "    </tr>\n",
       "    <tr>\n",
       "      <th>5</th>\n",
       "      <td>1995</td>\n",
       "      <td>599.54</td>\n",
       "      <td>37.25</td>\n",
       "      <td>6.360000</td>\n",
       "      <td>32.600000</td>\n",
       "      <td>364.89000</td>\n",
       "      <td>397.58</td>\n",
       "      <td>78.29</td>\n",
       "      <td>37.000000</td>\n",
       "      <td>84.92</td>\n",
       "      <td>5.896633</td>\n",
       "      <td>4.633670e-01</td>\n",
       "      <td>2.147090e-01</td>\n",
       "      <td>-3.860357e+00</td>\n",
       "      <td>1.490236e+01</td>\n",
       "    </tr>\n",
       "    <tr>\n",
       "      <th>6</th>\n",
       "      <td>1996</td>\n",
       "      <td>607.06</td>\n",
       "      <td>41.94</td>\n",
       "      <td>6.630000</td>\n",
       "      <td>44.390000</td>\n",
       "      <td>388.13000</td>\n",
       "      <td>737.23</td>\n",
       "      <td>83.78</td>\n",
       "      <td>36.490000</td>\n",
       "      <td>88.80</td>\n",
       "      <td>6.377047</td>\n",
       "      <td>2.529532e-01</td>\n",
       "      <td>6.398532e-02</td>\n",
       "      <td>-3.590357e+00</td>\n",
       "      <td>1.289066e+01</td>\n",
       "    </tr>\n",
       "    <tr>\n",
       "      <th>7</th>\n",
       "      <td>1997</td>\n",
       "      <td>612.43</td>\n",
       "      <td>46.45</td>\n",
       "      <td>6.570000</td>\n",
       "      <td>50.150000</td>\n",
       "      <td>402.10000</td>\n",
       "      <td>446.25</td>\n",
       "      <td>85.50</td>\n",
       "      <td>36.970000</td>\n",
       "      <td>93.64</td>\n",
       "      <td>6.857461</td>\n",
       "      <td>-2.874606e-01</td>\n",
       "      <td>8.263359e-02</td>\n",
       "      <td>-3.650357e+00</td>\n",
       "      <td>1.332511e+01</td>\n",
       "    </tr>\n",
       "    <tr>\n",
       "      <th>8</th>\n",
       "      <td>1998</td>\n",
       "      <td>619.68</td>\n",
       "      <td>49.88</td>\n",
       "      <td>6.680000</td>\n",
       "      <td>55.880000</td>\n",
       "      <td>418.14000</td>\n",
       "      <td>468.25</td>\n",
       "      <td>88.78</td>\n",
       "      <td>37.760000</td>\n",
       "      <td>84.94</td>\n",
       "      <td>7.337874</td>\n",
       "      <td>-6.578744e-01</td>\n",
       "      <td>4.327987e-01</td>\n",
       "      <td>-3.540357e+00</td>\n",
       "      <td>1.253413e+01</td>\n",
       "    </tr>\n",
       "    <tr>\n",
       "      <th>9</th>\n",
       "      <td>1999</td>\n",
       "      <td>623.28</td>\n",
       "      <td>55.60</td>\n",
       "      <td>7.030000</td>\n",
       "      <td>61.680000</td>\n",
       "      <td>459.23000</td>\n",
       "      <td>515.53</td>\n",
       "      <td>97.81</td>\n",
       "      <td>38.180000</td>\n",
       "      <td>97.45</td>\n",
       "      <td>7.818288</td>\n",
       "      <td>-7.882882e-01</td>\n",
       "      <td>6.213983e-01</td>\n",
       "      <td>-3.190357e+00</td>\n",
       "      <td>1.017838e+01</td>\n",
       "    </tr>\n",
       "    <tr>\n",
       "      <th>10</th>\n",
       "      <td>2000</td>\n",
       "      <td>617.94</td>\n",
       "      <td>57.49</td>\n",
       "      <td>7.210000</td>\n",
       "      <td>62.890000</td>\n",
       "      <td>491.35000</td>\n",
       "      <td>552.86</td>\n",
       "      <td>95.05</td>\n",
       "      <td>37.620000</td>\n",
       "      <td>91.04</td>\n",
       "      <td>8.298702</td>\n",
       "      <td>-1.088702e+00</td>\n",
       "      <td>1.185272e+00</td>\n",
       "      <td>-3.010357e+00</td>\n",
       "      <td>9.062250e+00</td>\n",
       "    </tr>\n",
       "    <tr>\n",
       "      <th>11</th>\n",
       "      <td>2001</td>\n",
       "      <td>623.04</td>\n",
       "      <td>59.21</td>\n",
       "      <td>7.290000</td>\n",
       "      <td>64.170000</td>\n",
       "      <td>505.36000</td>\n",
       "      <td>568.25</td>\n",
       "      <td>94.91</td>\n",
       "      <td>40.060000</td>\n",
       "      <td>92.97</td>\n",
       "      <td>8.779116</td>\n",
       "      <td>-1.489116e+00</td>\n",
       "      <td>2.217466e+00</td>\n",
       "      <td>-2.930357e+00</td>\n",
       "      <td>8.586993e+00</td>\n",
       "    </tr>\n",
       "    <tr>\n",
       "      <th>12</th>\n",
       "      <td>2002</td>\n",
       "      <td>607.05</td>\n",
       "      <td>63.06</td>\n",
       "      <td>7.390000</td>\n",
       "      <td>65.440000</td>\n",
       "      <td>515.58000</td>\n",
       "      <td>577.75</td>\n",
       "      <td>97.74</td>\n",
       "      <td>43.540000</td>\n",
       "      <td>95.96</td>\n",
       "      <td>9.259530</td>\n",
       "      <td>-1.869530e+00</td>\n",
       "      <td>3.495141e+00</td>\n",
       "      <td>-2.830357e+00</td>\n",
       "      <td>8.010922e+00</td>\n",
       "    </tr>\n",
       "    <tr>\n",
       "      <th>13</th>\n",
       "      <td>2003</td>\n",
       "      <td>618.55</td>\n",
       "      <td>66.10</td>\n",
       "      <td>8.090000</td>\n",
       "      <td>66.710000</td>\n",
       "      <td>643.89963</td>\n",
       "      <td>601.25</td>\n",
       "      <td>99.53</td>\n",
       "      <td>47.085357</td>\n",
       "      <td>104.04</td>\n",
       "      <td>9.739943</td>\n",
       "      <td>-1.649943e+00</td>\n",
       "      <td>2.722313e+00</td>\n",
       "      <td>-2.130357e+00</td>\n",
       "      <td>4.538422e+00</td>\n",
       "    </tr>\n",
       "    <tr>\n",
       "      <th>14</th>\n",
       "      <td>2004</td>\n",
       "      <td>620.63</td>\n",
       "      <td>68.12</td>\n",
       "      <td>10.220357</td>\n",
       "      <td>67.980000</td>\n",
       "      <td>584.73000</td>\n",
       "      <td>651.25</td>\n",
       "      <td>108.05</td>\n",
       "      <td>47.360000</td>\n",
       "      <td>105.05</td>\n",
       "      <td>10.220357</td>\n",
       "      <td>4.796163e-14</td>\n",
       "      <td>2.300318e-27</td>\n",
       "      <td>1.776357e-15</td>\n",
       "      <td>3.155444e-30</td>\n",
       "    </tr>\n",
       "    <tr>\n",
       "      <th>15</th>\n",
       "      <td>2005</td>\n",
       "      <td>647.22</td>\n",
       "      <td>72.00</td>\n",
       "      <td>9.710000</td>\n",
       "      <td>70.530000</td>\n",
       "      <td>599.57000</td>\n",
       "      <td>667.58</td>\n",
       "      <td>115.40</td>\n",
       "      <td>50.110000</td>\n",
       "      <td>105.99</td>\n",
       "      <td>10.700771</td>\n",
       "      <td>-9.907709e-01</td>\n",
       "      <td>9.816270e-01</td>\n",
       "      <td>-5.103571e-01</td>\n",
       "      <td>2.604644e-01</td>\n",
       "    </tr>\n",
       "    <tr>\n",
       "      <th>16</th>\n",
       "      <td>2006</td>\n",
       "      <td>662.25</td>\n",
       "      <td>76.20</td>\n",
       "      <td>11.290000</td>\n",
       "      <td>71.800000</td>\n",
       "      <td>638.85000</td>\n",
       "      <td>708.12</td>\n",
       "      <td>120.65</td>\n",
       "      <td>52.110000</td>\n",
       "      <td>106.26</td>\n",
       "      <td>11.181185</td>\n",
       "      <td>1.088153e-01</td>\n",
       "      <td>1.184076e-02</td>\n",
       "      <td>1.069643e+00</td>\n",
       "      <td>1.144136e+00</td>\n",
       "    </tr>\n",
       "    <tr>\n",
       "      <th>17</th>\n",
       "      <td>2007</td>\n",
       "      <td>679.25</td>\n",
       "      <td>81.25</td>\n",
       "      <td>12.740000</td>\n",
       "      <td>73.070000</td>\n",
       "      <td>701.88000</td>\n",
       "      <td>793.48</td>\n",
       "      <td>142.98</td>\n",
       "      <td>55.000000</td>\n",
       "      <td>130.07</td>\n",
       "      <td>11.661599</td>\n",
       "      <td>1.078401e+00</td>\n",
       "      <td>1.162950e+00</td>\n",
       "      <td>2.519643e+00</td>\n",
       "      <td>6.348600e+00</td>\n",
       "    </tr>\n",
       "    <tr>\n",
       "      <th>18</th>\n",
       "      <td>2008</td>\n",
       "      <td>681.39</td>\n",
       "      <td>86.19</td>\n",
       "      <td>12.510000</td>\n",
       "      <td>71.800000</td>\n",
       "      <td>721.88000</td>\n",
       "      <td>862.58</td>\n",
       "      <td>163.21</td>\n",
       "      <td>55.660000</td>\n",
       "      <td>130.34</td>\n",
       "      <td>12.142012</td>\n",
       "      <td>3.679877e-01</td>\n",
       "      <td>1.354149e-01</td>\n",
       "      <td>2.289643e+00</td>\n",
       "      <td>5.242464e+00</td>\n",
       "    </tr>\n",
       "    <tr>\n",
       "      <th>19</th>\n",
       "      <td>2009</td>\n",
       "      <td>689.66</td>\n",
       "      <td>98.63</td>\n",
       "      <td>13.280000</td>\n",
       "      <td>73.070000</td>\n",
       "      <td>789.51000</td>\n",
       "      <td>737.23</td>\n",
       "      <td>178.71</td>\n",
       "      <td>60.050000</td>\n",
       "      <td>128.53</td>\n",
       "      <td>12.622426</td>\n",
       "      <td>6.575739e-01</td>\n",
       "      <td>4.324034e-01</td>\n",
       "      <td>3.059643e+00</td>\n",
       "      <td>9.361414e+00</td>\n",
       "    </tr>\n",
       "    <tr>\n",
       "      <th>20</th>\n",
       "      <td>2010</td>\n",
       "      <td>691.44</td>\n",
       "      <td>105.42</td>\n",
       "      <td>13.970000</td>\n",
       "      <td>74.340000</td>\n",
       "      <td>819.68000</td>\n",
       "      <td>935.68</td>\n",
       "      <td>192.92</td>\n",
       "      <td>59.040000</td>\n",
       "      <td>129.54</td>\n",
       "      <td>13.102840</td>\n",
       "      <td>8.671601e-01</td>\n",
       "      <td>7.519666e-01</td>\n",
       "      <td>3.749643e+00</td>\n",
       "      <td>1.405982e+01</td>\n",
       "    </tr>\n",
       "    <tr>\n",
       "      <th>21</th>\n",
       "      <td>2011</td>\n",
       "      <td>701.81</td>\n",
       "      <td>11.41</td>\n",
       "      <td>14.400000</td>\n",
       "      <td>75.450000</td>\n",
       "      <td>860.23000</td>\n",
       "      <td>1065.68</td>\n",
       "      <td>209.29</td>\n",
       "      <td>58.350000</td>\n",
       "      <td>113.84</td>\n",
       "      <td>13.583254</td>\n",
       "      <td>8.167463e-01</td>\n",
       "      <td>6.670745e-01</td>\n",
       "      <td>4.179643e+00</td>\n",
       "      <td>1.746941e+01</td>\n",
       "    </tr>\n",
       "    <tr>\n",
       "      <th>22</th>\n",
       "      <td>2012</td>\n",
       "      <td>695.63</td>\n",
       "      <td>117.19</td>\n",
       "      <td>13.510000</td>\n",
       "      <td>76.560000</td>\n",
       "      <td>643.89963</td>\n",
       "      <td>1083.70</td>\n",
       "      <td>221.52</td>\n",
       "      <td>57.070000</td>\n",
       "      <td>126.40</td>\n",
       "      <td>14.063667</td>\n",
       "      <td>-5.536675e-01</td>\n",
       "      <td>3.065477e-01</td>\n",
       "      <td>3.289643e+00</td>\n",
       "      <td>1.082175e+01</td>\n",
       "    </tr>\n",
       "    <tr>\n",
       "      <th>23</th>\n",
       "      <td>2013</td>\n",
       "      <td>698.17</td>\n",
       "      <td>120.95</td>\n",
       "      <td>13.870000</td>\n",
       "      <td>77.670000</td>\n",
       "      <td>1006.04000</td>\n",
       "      <td>1202.22</td>\n",
       "      <td>226.26</td>\n",
       "      <td>56.110000</td>\n",
       "      <td>120.98</td>\n",
       "      <td>14.063667</td>\n",
       "      <td>-1.936675e-01</td>\n",
       "      <td>3.750710e-02</td>\n",
       "      <td>3.649643e+00</td>\n",
       "      <td>1.331989e+01</td>\n",
       "    </tr>\n",
       "    <tr>\n",
       "      <th>24</th>\n",
       "      <td>2014</td>\n",
       "      <td>699.71</td>\n",
       "      <td>125.52</td>\n",
       "      <td>14.210000</td>\n",
       "      <td>78.780000</td>\n",
       "      <td>1123.44000</td>\n",
       "      <td>1183.12</td>\n",
       "      <td>235.75</td>\n",
       "      <td>55.260000</td>\n",
       "      <td>125.33</td>\n",
       "      <td>14.544081</td>\n",
       "      <td>-3.340813e-01</td>\n",
       "      <td>1.116103e-01</td>\n",
       "      <td>3.989643e+00</td>\n",
       "      <td>1.591725e+01</td>\n",
       "    </tr>\n",
       "    <tr>\n",
       "      <th>25</th>\n",
       "      <td>2015</td>\n",
       "      <td>700.01</td>\n",
       "      <td>130.19</td>\n",
       "      <td>15.240000</td>\n",
       "      <td>79.890000</td>\n",
       "      <td>1103.23000</td>\n",
       "      <td>1178.79</td>\n",
       "      <td>252.25</td>\n",
       "      <td>55.280000</td>\n",
       "      <td>125.77</td>\n",
       "      <td>15.024495</td>\n",
       "      <td>2.155049e-01</td>\n",
       "      <td>4.644237e-02</td>\n",
       "      <td>5.019643e+00</td>\n",
       "      <td>2.519681e+01</td>\n",
       "    </tr>\n",
       "    <tr>\n",
       "      <th>26</th>\n",
       "      <td>2016</td>\n",
       "      <td>703.63</td>\n",
       "      <td>130.61</td>\n",
       "      <td>16.370000</td>\n",
       "      <td>80.980000</td>\n",
       "      <td>1097.81000</td>\n",
       "      <td>1239.84</td>\n",
       "      <td>269.40</td>\n",
       "      <td>54.940000</td>\n",
       "      <td>128.45</td>\n",
       "      <td>15.504909</td>\n",
       "      <td>8.650911e-01</td>\n",
       "      <td>7.483827e-01</td>\n",
       "      <td>6.149643e+00</td>\n",
       "      <td>3.781811e+01</td>\n",
       "    </tr>\n",
       "    <tr>\n",
       "      <th>27</th>\n",
       "      <td>2017</td>\n",
       "      <td>709.50</td>\n",
       "      <td>130.52</td>\n",
       "      <td>17.110000</td>\n",
       "      <td>82.070000</td>\n",
       "      <td>1157.77000</td>\n",
       "      <td>1324.51</td>\n",
       "      <td>291.29</td>\n",
       "      <td>54.410000</td>\n",
       "      <td>131.14</td>\n",
       "      <td>15.985323</td>\n",
       "      <td>1.124677e+00</td>\n",
       "      <td>1.264899e+00</td>\n",
       "      <td>6.889643e+00</td>\n",
       "      <td>4.746718e+01</td>\n",
       "    </tr>\n",
       "    <tr>\n",
       "      <th>28</th>\n",
       "      <td>2018</td>\n",
       "      <td>718.70</td>\n",
       "      <td>148.54</td>\n",
       "      <td>18.530000</td>\n",
       "      <td>83.170000</td>\n",
       "      <td>1241.34000</td>\n",
       "      <td>1355.55</td>\n",
       "      <td>305.33</td>\n",
       "      <td>55.260000</td>\n",
       "      <td>133.28</td>\n",
       "      <td>16.465736</td>\n",
       "      <td>2.064264e+00</td>\n",
       "      <td>4.261184e+00</td>\n",
       "      <td>8.309643e+00</td>\n",
       "      <td>6.905016e+01</td>\n",
       "    </tr>\n",
       "  </tbody>\n",
       "</table>\n",
       "</div>"
      ],
      "text/plain": [
       "    Year  Agriculture (MTCO2e)  Industrial process(MTCO2e)  Bunker(MTCO2e)  \\\n",
       "0   1990                566.55                       26.50        5.120000   \n",
       "1   1991                573.97                       29.00        4.870000   \n",
       "2   1992                580.41                       30.06        4.950000   \n",
       "3   1993                587.12                       31.06        5.400000   \n",
       "4   1994                595.12                       34.05        5.840000   \n",
       "5   1995                599.54                       37.25        6.360000   \n",
       "6   1996                607.06                       41.94        6.630000   \n",
       "7   1997                612.43                       46.45        6.570000   \n",
       "8   1998                619.68                       49.88        6.680000   \n",
       "9   1999                623.28                       55.60        7.030000   \n",
       "10  2000                617.94                       57.49        7.210000   \n",
       "11  2001                623.04                       59.21        7.290000   \n",
       "12  2002                607.05                       63.06        7.390000   \n",
       "13  2003                618.55                       66.10        8.090000   \n",
       "14  2004                620.63                       68.12       10.220357   \n",
       "15  2005                647.22                       72.00        9.710000   \n",
       "16  2006                662.25                       76.20       11.290000   \n",
       "17  2007                679.25                       81.25       12.740000   \n",
       "18  2008                681.39                       86.19       12.510000   \n",
       "19  2009                689.66                       98.63       13.280000   \n",
       "20  2010                691.44                      105.42       13.970000   \n",
       "21  2011                701.81                       11.41       14.400000   \n",
       "22  2012                695.63                      117.19       13.510000   \n",
       "23  2013                698.17                      120.95       13.870000   \n",
       "24  2014                699.71                      125.52       14.210000   \n",
       "25  2015                700.01                      130.19       15.240000   \n",
       "26  2016                703.63                      130.61       16.370000   \n",
       "27  2017                709.50                      130.52       17.110000   \n",
       "28  2018                718.70                      148.54       18.530000   \n",
       "\n",
       "    Waste(MTCO2e)  Elecricity(MTCO2e)  Manufacture and cunstruction(MTCO2e)  \\\n",
       "0       24.540000           231.23000                                256.46   \n",
       "1       25.790000           258.36000                                284.16   \n",
       "2       25.860000           278.36000                                304.23   \n",
       "3       26.500000           306.80000                                333.33   \n",
       "4       62.277143           319.80000                                347.21   \n",
       "5       32.600000           364.89000                                397.58   \n",
       "6       44.390000           388.13000                                737.23   \n",
       "7       50.150000           402.10000                                446.25   \n",
       "8       55.880000           418.14000                                468.25   \n",
       "9       61.680000           459.23000                                515.53   \n",
       "10      62.890000           491.35000                                552.86   \n",
       "11      64.170000           505.36000                                568.25   \n",
       "12      65.440000           515.58000                                577.75   \n",
       "13      66.710000           643.89963                                601.25   \n",
       "14      67.980000           584.73000                                651.25   \n",
       "15      70.530000           599.57000                                667.58   \n",
       "16      71.800000           638.85000                                708.12   \n",
       "17      73.070000           701.88000                                793.48   \n",
       "18      71.800000           721.88000                                862.58   \n",
       "19      73.070000           789.51000                                737.23   \n",
       "20      74.340000           819.68000                                935.68   \n",
       "21      75.450000           860.23000                               1065.68   \n",
       "22      76.560000           643.89963                               1083.70   \n",
       "23      77.670000          1006.04000                               1202.22   \n",
       "24      78.780000          1123.44000                               1183.12   \n",
       "25      79.890000          1103.23000                               1178.79   \n",
       "26      80.980000          1097.81000                               1239.84   \n",
       "27      82.070000          1157.77000                               1324.51   \n",
       "28      83.170000          1241.34000                               1355.55   \n",
       "\n",
       "    Transportation(MTCO2e)  Fugate emission(MTCO2e)  Other(MTCO2e)  \\\n",
       "0                    64.35                36.520000          70.59   \n",
       "1                    66.35                39.080000          75.55   \n",
       "2                    68.69                38.630000          76.44   \n",
       "3                    68.99                35.060000          76.09   \n",
       "4                    70.81                35.470000          81.45   \n",
       "5                    78.29                37.000000          84.92   \n",
       "6                    83.78                36.490000          88.80   \n",
       "7                    85.50                36.970000          93.64   \n",
       "8                    88.78                37.760000          84.94   \n",
       "9                    97.81                38.180000          97.45   \n",
       "10                   95.05                37.620000          91.04   \n",
       "11                   94.91                40.060000          92.97   \n",
       "12                   97.74                43.540000          95.96   \n",
       "13                   99.53                47.085357         104.04   \n",
       "14                  108.05                47.360000         105.05   \n",
       "15                  115.40                50.110000         105.99   \n",
       "16                  120.65                52.110000         106.26   \n",
       "17                  142.98                55.000000         130.07   \n",
       "18                  163.21                55.660000         130.34   \n",
       "19                  178.71                60.050000         128.53   \n",
       "20                  192.92                59.040000         129.54   \n",
       "21                  209.29                58.350000         113.84   \n",
       "22                  221.52                57.070000         126.40   \n",
       "23                  226.26                56.110000         120.98   \n",
       "24                  235.75                55.260000         125.33   \n",
       "25                  252.25                55.280000         125.77   \n",
       "26                  269.40                54.940000         128.45   \n",
       "27                  291.29                54.410000         131.14   \n",
       "28                  305.33                55.260000         133.28   \n",
       "\n",
       "    y_pre Bunker     residuals  residuals_squared  residuals of Mean  \\\n",
       "0       3.494564  1.625436e+00       2.642042e+00      -5.100357e+00   \n",
       "1       3.974978  8.950222e-01       8.010647e-01      -5.350357e+00   \n",
       "2       4.455392  4.946084e-01       2.446374e-01      -5.270357e+00   \n",
       "3       4.935805  4.641946e-01       2.154766e-01      -4.820357e+00   \n",
       "4       5.416219  4.237808e-01       1.795902e-01      -4.380357e+00   \n",
       "5       5.896633  4.633670e-01       2.147090e-01      -3.860357e+00   \n",
       "6       6.377047  2.529532e-01       6.398532e-02      -3.590357e+00   \n",
       "7       6.857461 -2.874606e-01       8.263359e-02      -3.650357e+00   \n",
       "8       7.337874 -6.578744e-01       4.327987e-01      -3.540357e+00   \n",
       "9       7.818288 -7.882882e-01       6.213983e-01      -3.190357e+00   \n",
       "10      8.298702 -1.088702e+00       1.185272e+00      -3.010357e+00   \n",
       "11      8.779116 -1.489116e+00       2.217466e+00      -2.930357e+00   \n",
       "12      9.259530 -1.869530e+00       3.495141e+00      -2.830357e+00   \n",
       "13      9.739943 -1.649943e+00       2.722313e+00      -2.130357e+00   \n",
       "14     10.220357  4.796163e-14       2.300318e-27       1.776357e-15   \n",
       "15     10.700771 -9.907709e-01       9.816270e-01      -5.103571e-01   \n",
       "16     11.181185  1.088153e-01       1.184076e-02       1.069643e+00   \n",
       "17     11.661599  1.078401e+00       1.162950e+00       2.519643e+00   \n",
       "18     12.142012  3.679877e-01       1.354149e-01       2.289643e+00   \n",
       "19     12.622426  6.575739e-01       4.324034e-01       3.059643e+00   \n",
       "20     13.102840  8.671601e-01       7.519666e-01       3.749643e+00   \n",
       "21     13.583254  8.167463e-01       6.670745e-01       4.179643e+00   \n",
       "22     14.063667 -5.536675e-01       3.065477e-01       3.289643e+00   \n",
       "23     14.063667 -1.936675e-01       3.750710e-02       3.649643e+00   \n",
       "24     14.544081 -3.340813e-01       1.116103e-01       3.989643e+00   \n",
       "25     15.024495  2.155049e-01       4.644237e-02       5.019643e+00   \n",
       "26     15.504909  8.650911e-01       7.483827e-01       6.149643e+00   \n",
       "27     15.985323  1.124677e+00       1.264899e+00       6.889643e+00   \n",
       "28     16.465736  2.064264e+00       4.261184e+00       8.309643e+00   \n",
       "\n",
       "    residuals_square  \n",
       "0       2.601364e+01  \n",
       "1       2.862632e+01  \n",
       "2       2.777666e+01  \n",
       "3       2.323584e+01  \n",
       "4       1.918753e+01  \n",
       "5       1.490236e+01  \n",
       "6       1.289066e+01  \n",
       "7       1.332511e+01  \n",
       "8       1.253413e+01  \n",
       "9       1.017838e+01  \n",
       "10      9.062250e+00  \n",
       "11      8.586993e+00  \n",
       "12      8.010922e+00  \n",
       "13      4.538422e+00  \n",
       "14      3.155444e-30  \n",
       "15      2.604644e-01  \n",
       "16      1.144136e+00  \n",
       "17      6.348600e+00  \n",
       "18      5.242464e+00  \n",
       "19      9.361414e+00  \n",
       "20      1.405982e+01  \n",
       "21      1.746941e+01  \n",
       "22      1.082175e+01  \n",
       "23      1.331989e+01  \n",
       "24      1.591725e+01  \n",
       "25      2.519681e+01  \n",
       "26      3.781811e+01  \n",
       "27      4.746718e+01  \n",
       "28      6.905016e+01  "
      ]
     },
     "execution_count": 141,
     "metadata": {},
     "output_type": "execute_result"
    }
   ],
   "source": [
    "data\n"
   ]
  },
  {
   "cell_type": "code",
   "execution_count": null,
   "id": "e952a835",
   "metadata": {},
   "outputs": [],
   "source": [
    "# I would likely reject the null hypothesis and conclude that there are statistically significant differences between the groups being compared."
   ]
  },
  {
   "cell_type": "code",
   "execution_count": null,
   "id": "b8a7ab7d",
   "metadata": {},
   "outputs": [],
   "source": []
  },
  {
   "cell_type": "code",
   "execution_count": null,
   "id": "cd82fc76",
   "metadata": {},
   "outputs": [],
   "source": []
  },
  {
   "cell_type": "code",
   "execution_count": null,
   "id": "25f594e5",
   "metadata": {},
   "outputs": [],
   "source": []
  },
  {
   "cell_type": "code",
   "execution_count": null,
   "id": "f2e7f1cc",
   "metadata": {},
   "outputs": [],
   "source": []
  },
  {
   "cell_type": "code",
   "execution_count": null,
   "id": "8478a943",
   "metadata": {},
   "outputs": [],
   "source": []
  },
  {
   "cell_type": "code",
   "execution_count": null,
   "id": "a8eb3fa4",
   "metadata": {},
   "outputs": [],
   "source": []
  }
 ],
 "metadata": {
  "kernelspec": {
   "display_name": "Python 3 (ipykernel)",
   "language": "python",
   "name": "python3"
  },
  "language_info": {
   "codemirror_mode": {
    "name": "ipython",
    "version": 3
   },
   "file_extension": ".py",
   "mimetype": "text/x-python",
   "name": "python",
   "nbconvert_exporter": "python",
   "pygments_lexer": "ipython3",
   "version": "3.9.12"
  }
 },
 "nbformat": 4,
 "nbformat_minor": 5
}
